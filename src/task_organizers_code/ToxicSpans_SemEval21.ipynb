{
  "nbformat": 4,
  "nbformat_minor": 0,
  "metadata": {
    "colab": {
      "name": "ToxicSpans@SemEval21.ipynb",
      "provenance": [],
      "collapsed_sections": [],
      "authorship_tag": "ABX9TyP+cXxW5kzBLEDQdYumBJUc",
      "include_colab_link": true
    },
    "kernelspec": {
      "name": "python3",
      "display_name": "Python 3"
    }
  },
  "cells": [
    {
      "cell_type": "markdown",
      "metadata": {
        "id": "view-in-github",
        "colab_type": "text"
      },
      "source": [
        "<a href=\"https://colab.research.google.com/github/ipavlopoulos/toxic_spans/blob/master/ToxicSpans_SemEval21.ipynb\" target=\"_parent\"><img src=\"https://colab.research.google.com/assets/colab-badge.svg\" alt=\"Open In Colab\"/></a>"
      ]
    },
    {
      "cell_type": "markdown",
      "metadata": {
        "id": "a3d9H9zwCr5X",
        "colab_type": "text"
      },
      "source": [
        "# Download the data and the code"
      ]
    },
    {
      "cell_type": "code",
      "metadata": {
        "id": "mFfkvCfweiHk",
        "colab_type": "code",
        "colab": {}
      },
      "source": [
        "from ast import literal_eval\n",
        "import pandas as pd\n",
        "import random"
      ],
      "execution_count": 3,
      "outputs": []
    },
    {
      "cell_type": "code",
      "metadata": {
        "id": "DCmZoSzEDb-K",
        "colab_type": "code",
        "colab": {
          "base_uri": "https://localhost:8080/",
          "height": 134
        },
        "outputId": "42ca886e-60e2-4500-d4b5-6d06c7d1f85c"
      },
      "source": [
        "!git clone https://github.com/ipavlopoulos/toxic_spans.git\n",
        "from toxic_spans.evaluation.semeval2021 import f1"
      ],
      "execution_count": 1,
      "outputs": [
        {
          "output_type": "stream",
          "text": [
            "Cloning into 'toxic_spans'...\n",
            "remote: Enumerating objects: 205, done.\u001b[K\n",
            "remote: Counting objects: 100% (205/205), done.\u001b[K\n",
            "remote: Compressing objects: 100% (154/154), done.\u001b[K\n",
            "remote: Total 205 (delta 95), reused 145 (delta 49), pack-reused 0\u001b[K\n",
            "Receiving objects: 100% (205/205), 181.00 KiB | 5.32 MiB/s, done.\n",
            "Resolving deltas: 100% (95/95), done.\n"
          ],
          "name": "stdout"
        }
      ]
    },
    {
      "cell_type": "code",
      "metadata": {
        "id": "PzgAd3i0es4L",
        "colab_type": "code",
        "colab": {
          "base_uri": "https://localhost:8080/",
          "height": 77
        },
        "outputId": "671359a6-6cf3-4202-bf1b-bd0252d92968"
      },
      "source": [
        "tsd = pd.read_csv(\"toxic_spans/data/tsd_trial.csv\") \n",
        "tsd.spans = tsd.spans.apply(literal_eval)\n",
        "tsd.head(1)"
      ],
      "execution_count": 4,
      "outputs": [
        {
          "output_type": "execute_result",
          "data": {
            "text/html": [
              "<div>\n",
              "<style scoped>\n",
              "    .dataframe tbody tr th:only-of-type {\n",
              "        vertical-align: middle;\n",
              "    }\n",
              "\n",
              "    .dataframe tbody tr th {\n",
              "        vertical-align: top;\n",
              "    }\n",
              "\n",
              "    .dataframe thead th {\n",
              "        text-align: right;\n",
              "    }\n",
              "</style>\n",
              "<table border=\"1\" class=\"dataframe\">\n",
              "  <thead>\n",
              "    <tr style=\"text-align: right;\">\n",
              "      <th></th>\n",
              "      <th>spans</th>\n",
              "      <th>text</th>\n",
              "    </tr>\n",
              "  </thead>\n",
              "  <tbody>\n",
              "    <tr>\n",
              "      <th>0</th>\n",
              "      <td>[15, 16, 17, 18, 19, 27, 28, 29, 30, 31]</td>\n",
              "      <td>Because he's a moron and a bigot. It's not any...</td>\n",
              "    </tr>\n",
              "  </tbody>\n",
              "</table>\n",
              "</div>"
            ],
            "text/plain": [
              "                                      spans                                               text\n",
              "0  [15, 16, 17, 18, 19, 27, 28, 29, 30, 31]  Because he's a moron and a bigot. It's not any..."
            ]
          },
          "metadata": {
            "tags": []
          },
          "execution_count": 4
        }
      ]
    },
    {
      "cell_type": "markdown",
      "metadata": {
        "id": "YbqSdWO5tNTQ",
        "colab_type": "text"
      },
      "source": [
        "### Run a random baseline\n",
        "* Returns random offsets as toxic per text"
      ]
    },
    {
      "cell_type": "code",
      "metadata": {
        "id": "1m33iwnNeuFS",
        "colab_type": "code",
        "colab": {
          "base_uri": "https://localhost:8080/",
          "height": 50
        },
        "outputId": "3ecdcaad-30b7-4ebe-a2c2-f090e3aa4290"
      },
      "source": [
        "# make an example with a taboo word\n",
        "taboo_word = \"fucking\"\n",
        "template = f\"This is a {taboo_word} example.\"\n",
        "\n",
        "# build a random baseline (yields offsets at random)\n",
        "random_baseline = lambda text: [i for i, char in enumerate(text) if random.random()>0.5]\n",
        "predictions = random_baseline(template)\n",
        "\n",
        "# find the ground truth indices and print\n",
        "gold = list(range(template.index(taboo_word), template.index(taboo_word)+len(taboo_word)))\n",
        "print(f\"Gold\\t\\t: {gold}\")\n",
        "print(f\"Predicted\\t: {predictions}\")"
      ],
      "execution_count": 16,
      "outputs": [
        {
          "output_type": "stream",
          "text": [
            "Gold\t\t: [10, 11, 12, 13, 14, 15, 16]\n",
            "Predicted\t: [1, 5, 6, 9, 10, 11, 13, 16, 17, 21, 24]\n"
          ],
          "name": "stdout"
        }
      ]
    },
    {
      "cell_type": "code",
      "metadata": {
        "id": "hEmEzaf1fObx",
        "colab_type": "code",
        "colab": {
          "base_uri": "https://localhost:8080/",
          "height": 279
        },
        "outputId": "712880a1-46ac-4789-b329-3032553ef9bd"
      },
      "source": [
        "tsd[\"random_predictions\"] = tsd.text.apply(random_baseline)\n",
        "tsd[\"f1_scores\"] = tsd.apply(lambda row: f1(row.random_predictions, row.spans), axis=1)\n",
        "tsd.head()"
      ],
      "execution_count": 17,
      "outputs": [
        {
          "output_type": "execute_result",
          "data": {
            "text/html": [
              "<div>\n",
              "<style scoped>\n",
              "    .dataframe tbody tr th:only-of-type {\n",
              "        vertical-align: middle;\n",
              "    }\n",
              "\n",
              "    .dataframe tbody tr th {\n",
              "        vertical-align: top;\n",
              "    }\n",
              "\n",
              "    .dataframe thead th {\n",
              "        text-align: right;\n",
              "    }\n",
              "</style>\n",
              "<table border=\"1\" class=\"dataframe\">\n",
              "  <thead>\n",
              "    <tr style=\"text-align: right;\">\n",
              "      <th></th>\n",
              "      <th>spans</th>\n",
              "      <th>text</th>\n",
              "      <th>random_predictions</th>\n",
              "      <th>f1_scores</th>\n",
              "    </tr>\n",
              "  </thead>\n",
              "  <tbody>\n",
              "    <tr>\n",
              "      <th>0</th>\n",
              "      <td>[15, 16, 17, 18, 19, 27, 28, 29, 30, 31]</td>\n",
              "      <td>Because he's a moron and a bigot. It's not any...</td>\n",
              "      <td>[0, 2, 4, 7, 8, 9, 11, 12, 15, 18, 22, 24, 27,...</td>\n",
              "      <td>0.222222</td>\n",
              "    </tr>\n",
              "    <tr>\n",
              "      <th>1</th>\n",
              "      <td>[29, 30, 31, 32, 33, 34]</td>\n",
              "      <td>How about we stop protecting idiots and let na...</td>\n",
              "      <td>[1, 2, 5, 6, 8, 9, 11, 13, 14, 17, 18, 19, 20,...</td>\n",
              "      <td>0.085714</td>\n",
              "    </tr>\n",
              "    <tr>\n",
              "      <th>2</th>\n",
              "      <td>[166, 167, 168, 169, 170, 171]</td>\n",
              "      <td>If people  were  smart, they would  Boycott th...</td>\n",
              "      <td>[1, 2, 7, 9, 10, 11, 13, 15, 16, 18, 19, 20, 2...</td>\n",
              "      <td>0.037383</td>\n",
              "    </tr>\n",
              "    <tr>\n",
              "      <th>3</th>\n",
              "      <td>[87, 88, 89, 90, 91, 92]</td>\n",
              "      <td>Trump Claimed that Russia will never invade th...</td>\n",
              "      <td>[0, 1, 2, 5, 19, 20, 21, 22, 28, 30, 33, 38, 4...</td>\n",
              "      <td>0.153846</td>\n",
              "    </tr>\n",
              "    <tr>\n",
              "      <th>4</th>\n",
              "      <td>[]</td>\n",
              "      <td>As long as your willing to pay a lot more for ...</td>\n",
              "      <td>[0, 2, 10, 16, 17, 21, 23, 30, 31, 33, 34, 36,...</td>\n",
              "      <td>0.000000</td>\n",
              "    </tr>\n",
              "  </tbody>\n",
              "</table>\n",
              "</div>"
            ],
            "text/plain": [
              "                                      spans  ... f1_scores\n",
              "0  [15, 16, 17, 18, 19, 27, 28, 29, 30, 31]  ...  0.222222\n",
              "1                  [29, 30, 31, 32, 33, 34]  ...  0.085714\n",
              "2            [166, 167, 168, 169, 170, 171]  ...  0.037383\n",
              "3                  [87, 88, 89, 90, 91, 92]  ...  0.153846\n",
              "4                                        []  ...  0.000000\n",
              "\n",
              "[5 rows x 4 columns]"
            ]
          },
          "metadata": {
            "tags": []
          },
          "execution_count": 17
        }
      ]
    },
    {
      "cell_type": "code",
      "metadata": {
        "id": "SmSy2j2PtWAr",
        "colab_type": "code",
        "colab": {
          "base_uri": "https://localhost:8080/",
          "height": 283
        },
        "outputId": "6d879341-1e1a-4e29-f466-314a6f67d030"
      },
      "source": [
        "from scipy.stats import sem\n",
        "_ = tsd.f1_scores.plot(kind=\"box\")\n",
        "print (f\"F1 = {tsd.f1_scores.mean():.2f} ± {sem(tsd.f1_scores):.2f}\")"
      ],
      "execution_count": 18,
      "outputs": [
        {
          "output_type": "stream",
          "text": [
            "F1 = 0.17 ± 0.01\n"
          ],
          "name": "stdout"
        },
        {
          "output_type": "display_data",
          "data": {
            "image/png": "[encoded data removed]",
            "text/plain": [
              "<Figure size 432x288 with 1 Axes>"
            ]
          },
          "metadata": {
            "tags": [],
            "needs_background": "light"
          }
        }
      ]
    },
    {
      "cell_type": "markdown",
      "metadata": {
        "id": "Laxfl78YtA3B",
        "colab_type": "text"
      },
      "source": [
        "### Prepare the text file with the scores\n",
        "* Name it as `spans-pred.txt`.\n",
        "* Align the scores with the rows."
      ]
    },
    {
      "cell_type": "code",
      "metadata": {
        "id": "Rj0PTobdhHnf",
        "colab_type": "code",
        "colab": {
          "base_uri": "https://localhost:8080/",
          "height": 205
        },
        "outputId": "5c7925bd-5322-49f0-878f-e89a614fabf0"
      },
      "source": [
        "# make sure that the ids match the ones of the scores\n",
        "predictions = tsd.random_predictions.to_list()\n",
        "ids = tsd.index.to_list()\n",
        "\n",
        "# write in a prediction file named \"spans-pred.txt\"\n",
        "with open(\"spans-pred.txt\", \"w\") as out:\n",
        "  for uid, text_scores in zip(ids, predictions):\n",
        "    out.write(f\"{str(uid)}\\t{str(text_scores)}\\n\")\n",
        "\n",
        "! head spans-pred.txt"
      ],
      "execution_count": null,
      "outputs": [
        {
          "output_type": "stream",
          "text": [
            "0\t[0, 1, 2, 3, 5, 6, 8, 9, 10, 11, 12, 14, 15, 18, 21, 22, 24, 25, 28, 30, 31, 35, 36, 39, 40, 41, 43, 44, 45, 47, 48, 49, 50, 52, 57, 58, 61, 63, 68, 69, 70, 71, 72]\n",
            "1\t[2, 3, 5, 7, 8, 10, 11, 13, 17, 18, 19, 20, 21, 22, 25, 27, 28, 36, 37, 38, 39, 41, 44, 45, 46, 47, 48, 50, 51, 54, 55, 57, 58, 59, 65, 67, 68, 70, 71, 72, 75, 77, 79, 80, 83, 84, 86, 87, 88, 90, 92, 94, 95, 96, 97, 98, 104, 107, 108, 109, 110, 114, 115, 116, 117, 118, 119, 120, 124, 125, 126, 127, 132, 133, 134, 135, 136]\n",
            "2\t[3, 4, 7, 9, 10, 12, 17, 19, 23, 25, 28, 29, 30, 31, 32, 35, 36, 38, 44, 46, 47, 48, 50, 51, 52, 53, 56, 57, 59, 60, 64, 65, 66, 67, 68, 69, 74, 76, 78, 79, 80, 81, 83, 84, 85, 87, 88, 90, 92, 93, 94, 95, 96, 99, 100, 106, 108, 109, 111, 116, 117, 118, 119, 120, 121, 122, 123, 126, 133, 134, 135, 136, 138, 140, 142, 143, 144, 147, 155, 156, 158, 159, 160, 161, 164, 169, 170, 172, 173, 175, 176, 178, 179, 180, 183, 184, 185, 186]\n",
            "3\t[0, 2, 4, 5, 6, 7, 10, 14, 16, 17, 18, 19, 20, 21, 22, 25, 26, 28, 30, 32, 39, 41, 42, 45, 46, 49, 52, 56, 59, 62, 63, 68, 70, 71, 72, 73, 76, 79, 83, 84, 86, 87, 93, 95, 96, 98, 99, 100, 103, 104]\n",
            "4\t[1, 2, 3, 4, 5, 7, 15, 16, 18, 20, 21, 22, 23, 25, 26, 29, 36, 41, 44, 46, 47, 48, 49, 53, 56, 57, 58, 61, 62, 63, 64, 65, 66, 74, 75, 77, 80, 82, 86, 87, 89, 92, 94, 95, 96, 98, 100, 101, 102, 103, 105, 106, 109, 112, 113, 114, 116, 117, 119, 122, 123, 125, 127, 128, 129, 131, 136, 137, 140, 141, 142, 146, 147, 148, 149, 153, 154, 155, 157, 159, 160, 161, 162, 164, 165, 166, 167, 168, 169, 170, 173, 175, 183, 185, 187, 188, 191, 192, 193, 194, 196, 197, 198, 200, 204, 206, 207]\n",
            "5\t[0, 1, 2, 4, 5, 7, 8, 9, 12, 13, 18, 19, 23, 24, 25, 26, 28, 29, 31, 35, 37, 38, 42, 44, 47, 48, 49, 50, 51, 55, 60, 61, 62, 63, 67, 70, 71, 72, 73, 76, 77, 79, 81, 82, 83, 85, 87, 88, 89, 90, 98, 101, 103, 104, 105, 110, 111, 112, 114, 115]\n",
            "6\t[0, 10, 11, 12, 15, 17, 20, 25, 29, 31, 33, 34, 35, 36, 38, 40, 41, 48, 52, 53, 54, 55, 57, 59, 61, 63, 66, 68, 69, 72, 77, 78, 80, 81, 82, 83, 84, 87, 88, 90, 94, 95, 96, 98, 99, 100, 101, 104, 110, 111, 112, 114, 117, 119, 122, 123, 125, 126, 128, 130, 133, 134, 136, 138, 139, 140, 142, 143, 146, 148, 151, 152, 153, 154, 157, 158, 160, 161, 162, 163, 164, 167, 172, 173, 174, 175, 178, 179, 180, 185, 187, 188, 189, 193, 199, 201, 207, 208, 209, 210, 211, 212, 213, 217, 219, 220, 222, 223, 232, 233, 235, 238, 239, 242, 244, 248, 251, 256, 260, 261, 263, 269, 271, 272, 278, 279, 286, 287, 290, 291, 292, 293, 294, 297, 298, 299, 303, 304, 306, 308, 309, 315, 316, 318, 319, 320, 321, 322, 324, 325, 326, 328, 331, 333, 334, 335, 338, 341, 342, 343, 344, 347, 348, 349, 350, 356, 357, 361, 364, 369, 371, 372, 374, 375, 376, 377, 379, 382, 383, 385, 386, 387, 389, 391, 394, 397, 398, 402, 404, 406, 408, 410, 411, 413, 414, 416, 417, 419, 425, 426, 427, 429, 433, 438, 439, 440, 441, 443, 444, 445, 447, 448, 452, 453, 456, 457, 458, 459, 463, 464, 467, 470, 471, 472, 480, 481, 482, 483, 484, 485, 486, 489, 490, 491, 493, 494, 495, 496, 498, 501, 503, 506, 507, 508, 509, 510, 511, 516, 519, 520, 525, 527, 528, 529, 535, 536, 537, 539, 540, 541, 545, 548, 550, 551, 553, 557, 559, 561, 565, 568, 572, 573, 575, 576, 579, 582, 583, 584, 586, 587, 588, 594, 595, 600, 601, 606, 608, 609, 612, 613, 617, 620, 621, 622, 623, 627, 631, 633, 638]\n",
            "7\t[0, 1, 2, 5, 6, 7, 8, 9, 10, 12, 13, 18, 20, 21, 22, 24, 25, 28, 30, 31, 36, 37, 40, 42, 44, 47, 53, 57, 58, 60, 62, 64, 66, 67, 68, 69, 70, 75, 76, 77]\n",
            "8\t[0, 1, 2, 3, 4, 7, 8, 11, 13, 15, 17, 19, 20, 21, 22, 24, 25, 26, 28, 29, 31, 33, 38, 45, 46, 47, 48, 49, 50, 51, 53, 54, 57, 58, 59]\n",
            "9\t[0, 1, 2, 10, 11, 12, 14, 17, 19, 21, 23, 24, 27, 29, 30, 33, 35, 36, 38, 43, 48, 50, 53, 58, 60, 61, 62, 63, 65, 68, 69, 70, 72, 73, 74, 75, 76, 77, 78, 79, 81, 84, 86, 87, 88, 89, 90, 92, 93, 95, 96, 97, 98, 99, 100, 102, 107, 108, 110, 111, 112, 114, 115, 118, 119, 125, 130, 131, 134, 136, 137, 139, 140, 142, 144, 145, 146, 148, 149, 151, 153, 154, 155, 156, 157, 158, 160, 163, 164, 166, 167, 170, 171, 172, 174, 175, 177, 179, 182, 183, 188, 189, 192, 193, 194, 197, 198, 199, 200, 201, 202, 204, 205, 209, 210, 211, 212, 213, 214, 216, 217, 220, 221, 225, 226, 229, 232, 234, 235, 238, 239, 240, 241, 242, 244, 248, 249, 256, 259, 261, 264, 266, 267, 269, 270, 272, 276, 280, 282, 283, 285, 288, 289, 290, 292, 293, 295, 297, 298, 300, 302, 303]\n"
          ],
          "name": "stdout"
        }
      ]
    },
    {
      "cell_type": "markdown",
      "metadata": {
        "id": "xMJ347K1sD49",
        "colab_type": "text"
      },
      "source": [
        "### Zip the predictions\n",
        "* Take extra care to verify that only the predictions text file is included. \n",
        "* The text file should **not** be within any directory. \n",
        "* No other file should be included; the zip should only contain the txt file.\n"
      ]
    },
    {
      "cell_type": "code",
      "metadata": {
        "id": "h4-ALOt_kVo0",
        "colab_type": "code",
        "colab": {
          "base_uri": "https://localhost:8080/",
          "height": 34
        },
        "outputId": "3d4a2855-9598-4f3a-8177-9a122807986e"
      },
      "source": [
        "! zip -r random_predictions.zip ./spans-pred.* "
      ],
      "execution_count": null,
      "outputs": [
        {
          "output_type": "stream",
          "text": [
            "  adding: spans-pred.txt (deflated 77%)\n"
          ],
          "name": "stdout"
        }
      ]
    },
    {
      "cell_type": "markdown",
      "metadata": {
        "id": "FtA0drgYs4yf",
        "colab_type": "text"
      },
      "source": [
        "###### Check by unziping it: only a `spans-pred.txt` file should be created"
      ]
    },
    {
      "cell_type": "code",
      "metadata": {
        "id": "gBwvxrqMkzQv",
        "colab_type": "code",
        "colab": {
          "base_uri": "https://localhost:8080/",
          "height": 50
        },
        "outputId": "af8830c7-b721-42b9-816e-ce8db4c276d5"
      },
      "source": [
        "! rm spans-pred.txt\n",
        "! unzip random_predictions.zip"
      ],
      "execution_count": null,
      "outputs": [
        {
          "output_type": "stream",
          "text": [
            "Archive:  random_predictions.zip\n",
            "  inflating: spans-pred.txt          \n"
          ],
          "name": "stdout"
        }
      ]
    },
    {
      "cell_type": "markdown",
      "metadata": {
        "id": "WPbS6GEnr9P6",
        "colab_type": "text"
      },
      "source": [
        "### Download the zip and submit it to be assessed"
      ]
    },
    {
      "cell_type": "code",
      "metadata": {
        "id": "gILyQibsm0zd",
        "colab_type": "code",
        "colab": {
          "base_uri": "https://localhost:8080/",
          "height": 17
        },
        "outputId": "efdd6150-3c8f-4423-ff00-127eb6b628be"
      },
      "source": [
        "from google.colab import files\n",
        "files.download(\"random_predictions.zip\")"
      ],
      "execution_count": null,
      "outputs": [
        {
          "output_type": "display_data",
          "data": {
            "application/javascript": [
              "\n",
              "    async function download(id, filename, size) {\n",
              "      if (!google.colab.kernel.accessAllowed) {\n",
              "        return;\n",
              "      }\n",
              "      const div = document.createElement('div');\n",
              "      const label = document.createElement('label');\n",
              "      label.textContent = `Downloading \"${filename}\": `;\n",
              "      div.appendChild(label);\n",
              "      const progress = document.createElement('progress');\n",
              "      progress.max = size;\n",
              "      div.appendChild(progress);\n",
              "      document.body.appendChild(div);\n",
              "\n",
              "      const buffers = [];\n",
              "      let downloaded = 0;\n",
              "\n",
              "      const channel = await google.colab.kernel.comms.open(id);\n",
              "      // Send a message to notify the kernel that we're ready.\n",
              "      channel.send({})\n",
              "\n",
              "      for await (const message of channel.messages) {\n",
              "        // Send a message to notify the kernel that we're ready.\n",
              "        channel.send({})\n",
              "        if (message.buffers) {\n",
              "          for (const buffer of message.buffers) {\n",
              "            buffers.push(buffer);\n",
              "            downloaded += buffer.byteLength;\n",
              "            progress.value = downloaded;\n",
              "          }\n",
              "        }\n",
              "      }\n",
              "      const blob = new Blob(buffers, {type: 'application/binary'});\n",
              "      const a = document.createElement('a');\n",
              "      a.href = window.URL.createObjectURL(blob);\n",
              "      a.download = filename;\n",
              "      div.appendChild(a);\n",
              "      a.click();\n",
              "      div.remove();\n",
              "    }\n",
              "  "
            ],
            "text/plain": [
              "<IPython.core.display.Javascript object>"
            ]
          },
          "metadata": {
            "tags": []
          }
        },
        {
          "output_type": "display_data",
          "data": {
            "application/javascript": [
              "download(\"download_6bed5cac-95bc-42e2-9b1d-21cc2aa4e1d3\", \"random_predictions.zip\", 71926)"
            ],
            "text/plain": [
              "<IPython.core.display.Javascript object>"
            ]
          },
          "metadata": {
            "tags": []
          }
        }
      ]
    },
    {
      "cell_type": "markdown",
      "metadata": {
        "id": "Lf3BP-FZrhiD",
        "colab_type": "text"
      },
      "source": [
        "### When the submission is finished click the `Download output from scoring step`\n",
        "* The submission may take a while, so avoid late submissions.\n",
        "* Download the output_file.zip and see your score in the respective file."
      ]
    },
    {
      "cell_type": "code",
      "metadata": {
        "id": "-JRM3dHur7IA",
        "colab_type": "code",
        "colab": {}
      },
      "source": [
        ""
      ],
      "execution_count": null,
      "outputs": []
    }
  ]
}