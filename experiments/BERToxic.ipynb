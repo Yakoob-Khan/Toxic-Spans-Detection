{
  "nbformat": 4,
  "nbformat_minor": 0,
  "metadata": {
    "accelerator": "GPU",
    "colab": {
      "name": "BERToxic.ipynb",
      "provenance": [],
      "collapsed_sections": [],
      "machine_shape": "hm"
    },
    "kernelspec": {
      "display_name": "Python 3",
      "name": "python3"
    }
  },
  "cells": [
    {
      "cell_type": "markdown",
      "metadata": {
        "id": "C-r2GtpPgpYy"
      },
      "source": [
        "# Fine-tuning BERToxic for Toxic Spans Detection\n",
        "### Author: Yakoob Khan\n"
      ]
    },
    {
      "cell_type": "markdown",
      "metadata": {
        "id": "GXhvBGrAi4Np"
      },
      "source": [
        "### Install dependencies and load code from Google Drive."
      ]
    },
    {
      "cell_type": "code",
      "metadata": {
        "colab": {
          "base_uri": "https://localhost:8080/"
        },
        "id": "9IN4phEn7z9n",
        "outputId": "b3fd31c0-1954-40b4-875d-bbefb67ad469"
      },
      "source": [
        "!pip install transformers\n",
        "!pip install nltk"
      ],
      "execution_count": 1,
      "outputs": [
        {
          "output_type": "stream",
          "text": [
            "Collecting transformers\n",
            "\u001b[?25l  Downloading https://files.pythonhosted.org/packages/f9/54/5ca07ec9569d2f232f3166de5457b63943882f7950ddfcc887732fc7fb23/transformers-4.3.3-py3-none-any.whl (1.9MB)\n",
            "\u001b[K     |████████████████████████████████| 1.9MB 12.2MB/s \n",
            "\u001b[?25hRequirement already satisfied: tqdm>=4.27 in /usr/local/lib/python3.7/dist-packages (from transformers) (4.41.1)\n",
            "Requirement already satisfied: importlib-metadata; python_version < \"3.8\" in /usr/local/lib/python3.7/dist-packages (from transformers) (3.7.0)\n",
            "Requirement already satisfied: regex!=2019.12.17 in /usr/local/lib/python3.7/dist-packages (from transformers) (2019.12.20)\n",
            "Requirement already satisfied: numpy>=1.17 in /usr/local/lib/python3.7/dist-packages (from transformers) (1.19.5)\n",
            "Collecting sacremoses\n",
            "\u001b[?25l  Downloading https://files.pythonhosted.org/packages/7d/34/09d19aff26edcc8eb2a01bed8e98f13a1537005d31e95233fd48216eed10/sacremoses-0.0.43.tar.gz (883kB)\n",
            "\u001b[K     |████████████████████████████████| 890kB 62.1MB/s \n",
            "\u001b[?25hRequirement already satisfied: filelock in /usr/local/lib/python3.7/dist-packages (from transformers) (3.0.12)\n",
            "Requirement already satisfied: packaging in /usr/local/lib/python3.7/dist-packages (from transformers) (20.9)\n",
            "Requirement already satisfied: requests in /usr/local/lib/python3.7/dist-packages (from transformers) (2.23.0)\n",
            "Collecting tokenizers<0.11,>=0.10.1\n",
            "\u001b[?25l  Downloading https://files.pythonhosted.org/packages/71/23/2ddc317b2121117bf34dd00f5b0de194158f2a44ee2bf5e47c7166878a97/tokenizers-0.10.1-cp37-cp37m-manylinux2010_x86_64.whl (3.2MB)\n",
            "\u001b[K     |████████████████████████████████| 3.2MB 67.0MB/s \n",
            "\u001b[?25hRequirement already satisfied: zipp>=0.5 in /usr/local/lib/python3.7/dist-packages (from importlib-metadata; python_version < \"3.8\"->transformers) (3.4.0)\n",
            "Requirement already satisfied: typing-extensions>=3.6.4; python_version < \"3.8\" in /usr/local/lib/python3.7/dist-packages (from importlib-metadata; python_version < \"3.8\"->transformers) (3.7.4.3)\n",
            "Requirement already satisfied: six in /usr/local/lib/python3.7/dist-packages (from sacremoses->transformers) (1.15.0)\n",
            "Requirement already satisfied: click in /usr/local/lib/python3.7/dist-packages (from sacremoses->transformers) (7.1.2)\n",
            "Requirement already satisfied: joblib in /usr/local/lib/python3.7/dist-packages (from sacremoses->transformers) (1.0.1)\n",
            "Requirement already satisfied: pyparsing>=2.0.2 in /usr/local/lib/python3.7/dist-packages (from packaging->transformers) (2.4.7)\n",
            "Requirement already satisfied: certifi>=2017.4.17 in /usr/local/lib/python3.7/dist-packages (from requests->transformers) (2020.12.5)\n",
            "Requirement already satisfied: urllib3!=1.25.0,!=1.25.1,<1.26,>=1.21.1 in /usr/local/lib/python3.7/dist-packages (from requests->transformers) (1.24.3)\n",
            "Requirement already satisfied: chardet<4,>=3.0.2 in /usr/local/lib/python3.7/dist-packages (from requests->transformers) (3.0.4)\n",
            "Requirement already satisfied: idna<3,>=2.5 in /usr/local/lib/python3.7/dist-packages (from requests->transformers) (2.10)\n",
            "Building wheels for collected packages: sacremoses\n",
            "  Building wheel for sacremoses (setup.py) ... \u001b[?25l\u001b[?25hdone\n",
            "  Created wheel for sacremoses: filename=sacremoses-0.0.43-cp37-none-any.whl size=893262 sha256=93bc30916279d8b23cd9de3770cda0bc2a6181b951032904fc8240233f58b0bd\n",
            "  Stored in directory: /root/.cache/pip/wheels/29/3c/fd/7ce5c3f0666dab31a50123635e6fb5e19ceb42ce38d4e58f45\n",
            "Successfully built sacremoses\n",
            "Installing collected packages: sacremoses, tokenizers, transformers\n",
            "Successfully installed sacremoses-0.0.43 tokenizers-0.10.1 transformers-4.3.3\n",
            "Requirement already satisfied: nltk in /usr/local/lib/python3.7/dist-packages (3.2.5)\n",
            "Requirement already satisfied: six in /usr/local/lib/python3.7/dist-packages (from nltk) (1.15.0)\n"
          ],
          "name": "stdout"
        }
      ]
    },
    {
      "cell_type": "code",
      "metadata": {
        "colab": {
          "base_uri": "https://localhost:8080/"
        },
        "id": "nvCEPoW7vQVv",
        "outputId": "814c82b5-a6a7-4391-fe54-6ea993a3d5d6"
      },
      "source": [
        "from google.colab import drive\n",
        "drive.mount('/content/drive')"
      ],
      "execution_count": 2,
      "outputs": [
        {
          "output_type": "stream",
          "text": [
            "Mounted at /content/drive\n"
          ],
          "name": "stdout"
        }
      ]
    },
    {
      "cell_type": "code",
      "metadata": {
        "colab": {
          "base_uri": "https://localhost:8080/"
        },
        "id": "E2V9tMDp1n_I",
        "outputId": "a4451041-82a8-4386-e0e5-6a8ded7a4d09"
      },
      "source": [
        "%cd \"drive/My Drive/system/src\""
      ],
      "execution_count": 3,
      "outputs": [
        {
          "output_type": "stream",
          "text": [
            "/content/drive/My Drive/system/src\n"
          ],
          "name": "stdout"
        }
      ]
    },
    {
      "cell_type": "markdown",
      "metadata": {
        "id": "ANPe2TmIjIWd"
      },
      "source": [
        "### GPU Information"
      ]
    },
    {
      "cell_type": "code",
      "metadata": {
        "colab": {
          "base_uri": "https://localhost:8080/"
        },
        "id": "icE1ECkgAUjv",
        "outputId": "00ee934f-98e5-4bce-ec29-585abbaf2c54"
      },
      "source": [
        "# Credit: https://colab.research.google.com/notebooks/pro.ipynb\n",
        "gpu_info = !nvidia-smi\n",
        "gpu_info = '\\n'.join(gpu_info)\n",
        "if gpu_info.find('failed') >= 0:\n",
        "  print('Select the Runtime > \"Change runtime type\" menu to enable a GPU accelerator, ')\n",
        "  print('and then re-execute this cell.')\n",
        "else:\n",
        "  print(gpu_info)\n",
        "\n",
        "from psutil import virtual_memory\n",
        "ram_gb = virtual_memory().total / 1e9\n",
        "print('Your runtime has {:.1f} gigabytes of available RAM\\n'.format(ram_gb))\n",
        "\n",
        "if ram_gb < 20:\n",
        "  print('To enable a high-RAM runtime, select the Runtime > \"Change runtime type\"')\n",
        "  print('menu, and then select High-RAM in the Runtime shape dropdown. Then, ')\n",
        "  print('re-execute this cell.')\n",
        "else:\n",
        "  print('You are using a high-RAM runtime!')"
      ],
      "execution_count": 4,
      "outputs": [
        {
          "output_type": "stream",
          "text": [
            "Sun Feb 28 02:58:47 2021       \n",
            "+-----------------------------------------------------------------------------+\n",
            "| NVIDIA-SMI 460.39       Driver Version: 460.32.03    CUDA Version: 11.2     |\n",
            "|-------------------------------+----------------------+----------------------+\n",
            "| GPU  Name        Persistence-M| Bus-Id        Disp.A | Volatile Uncorr. ECC |\n",
            "| Fan  Temp  Perf  Pwr:Usage/Cap|         Memory-Usage | GPU-Util  Compute M. |\n",
            "|                               |                      |               MIG M. |\n",
            "|===============================+======================+======================|\n",
            "|   0  Tesla V100-SXM2...  Off  | 00000000:00:04.0 Off |                    0 |\n",
            "| N/A   37C    P0    24W / 300W |      0MiB / 16160MiB |      0%      Default |\n",
            "|                               |                      |                  N/A |\n",
            "+-------------------------------+----------------------+----------------------+\n",
            "                                                                               \n",
            "+-----------------------------------------------------------------------------+\n",
            "| Processes:                                                                  |\n",
            "|  GPU   GI   CI        PID   Type   Process name                  GPU Memory |\n",
            "|        ID   ID                                                   Usage      |\n",
            "|=============================================================================|\n",
            "|  No running processes found                                                 |\n",
            "+-----------------------------------------------------------------------------+\n",
            "Your runtime has 27.4 gigabytes of available RAM\n",
            "\n",
            "You are using a high-RAM runtime!\n"
          ],
          "name": "stdout"
        }
      ]
    },
    {
      "cell_type": "markdown",
      "metadata": {
        "id": "tqcRS4qzjNZ0"
      },
      "source": [
        "## Fine-tune BERToxic"
      ]
    },
    {
      "cell_type": "code",
      "metadata": {
        "colab": {
          "base_uri": "https://localhost:8080/"
        },
        "id": "mRJ9cs3l7Xrs",
        "outputId": "2f9786a1-119a-49fa-a9b0-1ca7ea4e0113"
      },
      "source": [
        "!python3 './train_bert.py' \\\n",
        "  --model_type 'bert-base-cased' \\\n",
        "  --train_dir '../data/tsd_train.csv' \\\n",
        "  --dev_dir '../data/tsd_trial.csv' \\\n",
        "  --test_dir '../data/tsd_test.csv' \\\n",
        "  --epochs 1.92 \\\n",
        "  --warm_up_steps 500 \\\n",
        "  --learning_rate 5e-5 \\\n",
        "  --weight_decay 0.01 \\\n",
        "  --batch_size 16 "
      ],
      "execution_count": 6,
      "outputs": [
        {
          "output_type": "stream",
          "text": [
            "[nltk_data] Downloading package punkt to /root/nltk_data...\n",
            "[nltk_data]   Package punkt is already up-to-date!\n",
            "2021-02-28 02:59:57.600670: I tensorflow/stream_executor/platform/default/dso_loader.cc:49] Successfully opened dynamic library libcudart.so.10.1\n",
            "Downloading: 100% 213k/213k [00:00<00:00, 636kB/s]\n",
            "Downloading: 100% 436k/436k [00:00<00:00, 1.04MB/s]\n",
            "Downloading: 100% 433/433 [00:00<00:00, 366kB/s]\n",
            "Downloading: 100% 436M/436M [00:06<00:00, 70.7MB/s]\n",
            "Some weights of the model checkpoint at bert-base-cased were not used when initializing BertForTokenClassification: ['cls.predictions.bias', 'cls.predictions.transform.dense.weight', 'cls.predictions.transform.dense.bias', 'cls.predictions.decoder.weight', 'cls.seq_relationship.weight', 'cls.seq_relationship.bias', 'cls.predictions.transform.LayerNorm.weight', 'cls.predictions.transform.LayerNorm.bias']\n",
            "- This IS expected if you are initializing BertForTokenClassification from the checkpoint of a model trained on another task or with another architecture (e.g. initializing a BertForSequenceClassification model from a BertForPreTraining model).\n",
            "- This IS NOT expected if you are initializing BertForTokenClassification from the checkpoint of a model that you expect to be exactly identical (initializing a BertForSequenceClassification model from a BertForSequenceClassification model).\n",
            "Some weights of BertForTokenClassification were not initialized from the model checkpoint at bert-base-cased and are newly initialized: ['classifier.weight', 'classifier.bias']\n",
            "You should probably TRAIN this model on a down-stream task to be able to use it for predictions and inference.\n",
            "\n",
            "> Loading 7939 examples located at '../data/tsd_train.csv'\n",
            "\n",
            "\n",
            "> Loading 690 examples located at '../data/tsd_trial.csv'\n",
            "\n",
            "\n",
            "> Loading 2000 examples located at '../data/tsd_test.csv'\n",
            "\n",
            "\n",
            "> Tokenizing text and generating word embeddings.. \n",
            "\n",
            "> Creating Tensor Datasets.. \n",
            "\n",
            "> Training examples: 7939\n",
            "> Validation examples: 690\n",
            "> Test examples: 2000\n",
            "\n",
            "> Started Toxic Spans Detection training! \n",
            "\n",
            "{'loss': 0.7907, 'learning_rate': 5.000000000000001e-07, 'epoch': 0.01}\n",
            "{'eval_loss': 0.7782617807388306, 'eval_precision': 0.15690328397444697, 'eval_recall': 0.8363959057414965, 'eval_f1': 0.22284394605545418, 'eval_runtime': 3.3203, 'eval_samples_per_second': 207.815, 'epoch': 0.01}\n",
            "{'loss': 0.7652, 'learning_rate': 1.0000000000000002e-06, 'epoch': 0.02}\n",
            "{'eval_loss': 0.7482939958572388, 'eval_precision': 0.1603435697576211, 'eval_recall': 0.7756962147049986, 'eval_f1': 0.222289752384243, 'eval_runtime': 3.2995, 'eval_samples_per_second': 209.121, 'epoch': 0.02}\n",
            "{'loss': 0.732, 'learning_rate': 1.5e-06, 'epoch': 0.03}\n",
            "{'eval_loss': 0.6998667120933533, 'eval_precision': 0.16234229431084923, 'eval_recall': 0.6245196573077312, 'eval_f1': 0.2134067595933282, 'eval_runtime': 3.3093, 'eval_samples_per_second': 208.501, 'epoch': 0.03}\n",
            "{'loss': 0.687, 'learning_rate': 2.0000000000000003e-06, 'epoch': 0.04}\n",
            "{'eval_loss': 0.6365199685096741, 'eval_precision': 0.1574501093410505, 'eval_recall': 0.35938771291553345, 'eval_f1': 0.1779661173966956, 'eval_runtime': 3.2849, 'eval_samples_per_second': 210.049, 'epoch': 0.04}\n",
            "{'loss': 0.6155, 'learning_rate': 2.5e-06, 'epoch': 0.05}\n",
            "{'eval_loss': 0.5622657537460327, 'eval_precision': 0.10781397292614679, 'eval_recall': 0.12466026495011948, 'eval_f1': 0.09409312940197802, 'eval_runtime': 3.2648, 'eval_samples_per_second': 211.348, 'epoch': 0.05}\n",
            "{'loss': 0.5391, 'learning_rate': 3e-06, 'epoch': 0.06}\n",
            "{'eval_loss': 0.4831455945968628, 'eval_precision': 0.06252225431573258, 'eval_recall': 0.042299375123750364, 'eval_f1': 0.04477922097778034, 'eval_runtime': 3.2733, 'eval_samples_per_second': 210.797, 'epoch': 0.06}\n",
            "{'loss': 0.4212, 'learning_rate': 3.5000000000000004e-06, 'epoch': 0.07}\n",
            "{'eval_loss': 0.4050115942955017, 'eval_precision': 0.06633221850613155, 'eval_recall': 0.05919099129707193, 'eval_f1': 0.059725488235926695, 'eval_runtime': 3.2701, 'eval_samples_per_second': 211.004, 'epoch': 0.07}\n",
            "{'loss': 0.3732, 'learning_rate': 4.000000000000001e-06, 'epoch': 0.08}\n",
            "{'eval_loss': 0.34056511521339417, 'eval_precision': 0.06231884057971015, 'eval_recall': 0.06137366099558916, 'eval_f1': 0.06161757830762038, 'eval_runtime': 3.2596, 'eval_samples_per_second': 211.681, 'epoch': 0.08}\n",
            "{'loss': 0.2901, 'learning_rate': 4.5e-06, 'epoch': 0.09}\n",
            "{'eval_loss': 0.29356685280799866, 'eval_precision': 0.06231884057971015, 'eval_recall': 0.06231884057971015, 'eval_f1': 0.06231884057971015, 'eval_runtime': 3.2628, 'eval_samples_per_second': 211.472, 'epoch': 0.09}\n",
            "{'loss': 0.3506, 'learning_rate': 5e-06, 'epoch': 0.1}\n",
            "{'eval_loss': 0.276075541973114, 'eval_precision': 0.06231884057971015, 'eval_recall': 0.06231884057971015, 'eval_f1': 0.06231884057971015, 'eval_runtime': 3.2631, 'eval_samples_per_second': 211.458, 'epoch': 0.1}\n",
            "{'loss': 0.2537, 'learning_rate': 5.500000000000001e-06, 'epoch': 0.11}\n",
            "{'eval_loss': 0.2726929783821106, 'eval_precision': 0.06231884057971015, 'eval_recall': 0.06231884057971015, 'eval_f1': 0.06231884057971015, 'eval_runtime': 3.2641, 'eval_samples_per_second': 211.39, 'epoch': 0.11}\n",
            "{'loss': 0.2817, 'learning_rate': 6e-06, 'epoch': 0.12}\n",
            "{'eval_loss': 0.26579734683036804, 'eval_precision': 0.06231884057971015, 'eval_recall': 0.06231884057971015, 'eval_f1': 0.06231884057971015, 'eval_runtime': 3.2941, 'eval_samples_per_second': 209.467, 'epoch': 0.12}\n",
            "{'loss': 0.2523, 'learning_rate': 6.5000000000000004e-06, 'epoch': 0.13}\n",
            "{'eval_loss': 0.2518114149570465, 'eval_precision': 0.06231884057971015, 'eval_recall': 0.06231884057971015, 'eval_f1': 0.06231884057971015, 'eval_runtime': 3.2983, 'eval_samples_per_second': 209.201, 'epoch': 0.13}\n",
            "{'loss': 0.3807, 'learning_rate': 7.000000000000001e-06, 'epoch': 0.14}\n",
            "{'eval_loss': 0.2495821714401245, 'eval_precision': 0.06231884057971015, 'eval_recall': 0.06231884057971015, 'eval_f1': 0.06231884057971015, 'eval_runtime': 3.2649, 'eval_samples_per_second': 211.338, 'epoch': 0.14}\n",
            "{'loss': 0.2971, 'learning_rate': 7.5e-06, 'epoch': 0.15}\n",
            "{'eval_loss': 0.252690851688385, 'eval_precision': 0.06521739130434782, 'eval_recall': 0.06407867494824017, 'eval_f1': 0.06427962489343564, 'eval_runtime': 3.2735, 'eval_samples_per_second': 210.786, 'epoch': 0.15}\n",
            "{'loss': 0.2997, 'learning_rate': 8.000000000000001e-06, 'epoch': 0.16}\n",
            "{'eval_loss': 0.245550274848938, 'eval_precision': 0.06956521739130435, 'eval_recall': 0.0684265010351967, 'eval_f1': 0.06862745098039215, 'eval_runtime': 3.2614, 'eval_samples_per_second': 211.563, 'epoch': 0.16}\n",
            "{'loss': 0.44, 'learning_rate': 8.500000000000002e-06, 'epoch': 0.17}\n",
            "{'eval_loss': 0.236069917678833, 'eval_precision': 0.07536231884057971, 'eval_recall': 0.07536231884057971, 'eval_f1': 0.07536231884057971, 'eval_runtime': 3.275, 'eval_samples_per_second': 210.69, 'epoch': 0.17}\n",
            "{'loss': 0.2664, 'learning_rate': 9e-06, 'epoch': 0.18}\n",
            "{'eval_loss': 0.22880102694034576, 'eval_precision': 0.08405797101449275, 'eval_recall': 0.07988769684421859, 'eval_f1': 0.08073380595119727, 'eval_runtime': 3.2997, 'eval_samples_per_second': 209.112, 'epoch': 0.18}\n",
            "{'loss': 0.2493, 'learning_rate': 9.5e-06, 'epoch': 0.19}\n",
            "{'eval_loss': 0.22511304914951324, 'eval_precision': 0.1072463768115942, 'eval_recall': 0.09976674228390475, 'eval_f1': 0.10149283887713062, 'eval_runtime': 3.269, 'eval_samples_per_second': 211.076, 'epoch': 0.19}\n",
            "{'loss': 0.2536, 'learning_rate': 1e-05, 'epoch': 0.2}\n",
            "{'eval_loss': 0.22154319286346436, 'eval_precision': 0.1782608695652174, 'eval_recall': 0.15647858116965668, 'eval_f1': 0.1620681475091503, 'eval_runtime': 3.2665, 'eval_samples_per_second': 211.232, 'epoch': 0.2}\n",
            "{'loss': 0.3414, 'learning_rate': 1.05e-05, 'epoch': 0.21}\n",
            "{'eval_loss': 0.21813632547855377, 'eval_precision': 0.2797760210803689, 'eval_recall': 0.23929013861309092, 'eval_f1': 0.2492747801958971, 'eval_runtime': 3.2677, 'eval_samples_per_second': 211.158, 'epoch': 0.21}\n",
            "{'loss': 0.1732, 'learning_rate': 1.1000000000000001e-05, 'epoch': 0.22}\n",
            "{'eval_loss': 0.21508195996284485, 'eval_precision': 0.37130395369525804, 'eval_recall': 0.3124395473067915, 'eval_f1': 0.32567365765659506, 'eval_runtime': 3.2685, 'eval_samples_per_second': 211.103, 'epoch': 0.22}\n",
            "{'loss': 0.2996, 'learning_rate': 1.1500000000000002e-05, 'epoch': 0.23}\n",
            "{'eval_loss': 0.21200592815876007, 'eval_precision': 0.48627482625990726, 'eval_recall': 0.41139715306299784, 'eval_f1': 0.42253867170476467, 'eval_runtime': 3.2706, 'eval_samples_per_second': 210.969, 'epoch': 0.23}\n",
            "{'loss': 0.2111, 'learning_rate': 1.2e-05, 'epoch': 0.24}\n",
            "{'eval_loss': 0.21382972598075867, 'eval_precision': 0.5592391339922289, 'eval_recall': 0.5169302942800736, 'eval_f1': 0.5004311549254361, 'eval_runtime': 3.2634, 'eval_samples_per_second': 211.437, 'epoch': 0.24}\n",
            "{'loss': 0.2404, 'learning_rate': 1.25e-05, 'epoch': 0.25}\n",
            "{'eval_loss': 0.21146588027477264, 'eval_precision': 0.5671879067135589, 'eval_recall': 0.5359427827106612, 'eval_f1': 0.511639423340403, 'eval_runtime': 3.2704, 'eval_samples_per_second': 210.984, 'epoch': 0.25}\n",
            "{'loss': 0.3078, 'learning_rate': 1.3000000000000001e-05, 'epoch': 0.26}\n",
            "{'eval_loss': 0.20755422115325928, 'eval_precision': 0.5727849312995373, 'eval_recall': 0.5258883131979307, 'eval_f1': 0.5110734286759574, 'eval_runtime': 3.2804, 'eval_samples_per_second': 210.343, 'epoch': 0.26}\n",
            "{'loss': 0.3392, 'learning_rate': 1.3500000000000001e-05, 'epoch': 0.27}\n",
            "{'eval_loss': 0.20596885681152344, 'eval_precision': 0.5728502610836309, 'eval_recall': 0.5079645396170016, 'eval_f1': 0.5067767536423862, 'eval_runtime': 3.2639, 'eval_samples_per_second': 211.402, 'epoch': 0.27}\n",
            "{'loss': 0.2622, 'learning_rate': 1.4000000000000001e-05, 'epoch': 0.28}\n",
            "{'eval_loss': 0.20520567893981934, 'eval_precision': 0.5890802614069937, 'eval_recall': 0.5400786141014102, 'eval_f1': 0.5268147712584721, 'eval_runtime': 3.2703, 'eval_samples_per_second': 210.99, 'epoch': 0.28}\n",
            "{'loss': 0.2178, 'learning_rate': 1.45e-05, 'epoch': 0.29}\n",
            "{'eval_loss': 0.20843788981437683, 'eval_precision': 0.609960407851751, 'eval_recall': 0.596923688913077, 'eval_f1': 0.5586120707711344, 'eval_runtime': 3.2726, 'eval_samples_per_second': 210.841, 'epoch': 0.29}\n",
            "{'loss': 0.1428, 'learning_rate': 1.5e-05, 'epoch': 0.3}\n",
            "{'eval_loss': 0.20566432178020477, 'eval_precision': 0.591226253537049, 'eval_recall': 0.5288610373623912, 'eval_f1': 0.5229489531080541, 'eval_runtime': 3.284, 'eval_samples_per_second': 210.108, 'epoch': 0.3}\n",
            "{'loss': 0.2064, 'learning_rate': 1.55e-05, 'epoch': 0.31}\n",
            "{'eval_loss': 0.2077951431274414, 'eval_precision': 0.5946429973502122, 'eval_recall': 0.5294161005619556, 'eval_f1': 0.5256156140365474, 'eval_runtime': 3.2588, 'eval_samples_per_second': 211.735, 'epoch': 0.31}\n",
            "{'loss': 0.1696, 'learning_rate': 1.6000000000000003e-05, 'epoch': 0.32}\n",
            "{'eval_loss': 0.20347988605499268, 'eval_precision': 0.6416076370017574, 'eval_recall': 0.6200180594766042, 'eval_f1': 0.5837659774477052, 'eval_runtime': 3.2901, 'eval_samples_per_second': 209.721, 'epoch': 0.32}\n",
            "{'loss': 0.3034, 'learning_rate': 1.65e-05, 'epoch': 0.33}\n",
            "{'eval_loss': 0.20590583980083466, 'eval_precision': 0.6348628437777498, 'eval_recall': 0.647864482002521, 'eval_f1': 0.5897646052017977, 'eval_runtime': 3.303, 'eval_samples_per_second': 208.9, 'epoch': 0.33}\n",
            "{'loss': 0.1901, 'learning_rate': 1.7000000000000003e-05, 'epoch': 0.34}\n",
            "{'eval_loss': 0.20202933251857758, 'eval_precision': 0.6563624060036368, 'eval_recall': 0.6217723161338786, 'eval_f1': 0.5936974875523753, 'eval_runtime': 3.6187, 'eval_samples_per_second': 190.678, 'epoch': 0.34}\n",
            "{'loss': 0.1623, 'learning_rate': 1.75e-05, 'epoch': 0.35}\n",
            "{'eval_loss': 0.20363233983516693, 'eval_precision': 0.6346486621183919, 'eval_recall': 0.5672168077136, 'eval_f1': 0.5622825077591536, 'eval_runtime': 3.2749, 'eval_samples_per_second': 210.692, 'epoch': 0.35}\n",
            "{'loss': 0.2338, 'learning_rate': 1.8e-05, 'epoch': 0.36}\n",
            "{'eval_loss': 0.20076541602611542, 'eval_precision': 0.6451953005950872, 'eval_recall': 0.5812174614036479, 'eval_f1': 0.5731488742691759, 'eval_runtime': 3.2785, 'eval_samples_per_second': 210.459, 'epoch': 0.36}\n",
            "{'loss': 0.2991, 'learning_rate': 1.85e-05, 'epoch': 0.37}\n",
            "{'eval_loss': 0.202060729265213, 'eval_precision': 0.6682759388246916, 'eval_recall': 0.644270471964052, 'eval_f1': 0.6069991372124496, 'eval_runtime': 3.2709, 'eval_samples_per_second': 210.953, 'epoch': 0.37}\n",
            "{'loss': 0.1871, 'learning_rate': 1.9e-05, 'epoch': 0.38}\n",
            "{'eval_loss': 0.19776779413223267, 'eval_precision': 0.6743224562404242, 'eval_recall': 0.620347853166112, 'eval_f1': 0.6038510812677906, 'eval_runtime': 3.2845, 'eval_samples_per_second': 210.077, 'epoch': 0.38}\n",
            "{'loss': 0.2025, 'learning_rate': 1.9500000000000003e-05, 'epoch': 0.39}\n",
            "{'eval_loss': 0.19575633108615875, 'eval_precision': 0.6685848474010088, 'eval_recall': 0.57976086746176, 'eval_f1': 0.5820111755583801, 'eval_runtime': 3.27, 'eval_samples_per_second': 211.011, 'epoch': 0.39}\n",
            "{'loss': 0.2621, 'learning_rate': 2e-05, 'epoch': 0.4}\n",
            "{'eval_loss': 0.1956617683172226, 'eval_precision': 0.6610288651631906, 'eval_recall': 0.5684638989442347, 'eval_f1': 0.5749806663534285, 'eval_runtime': 3.2719, 'eval_samples_per_second': 210.887, 'epoch': 0.4}\n",
            "{'loss': 0.1933, 'learning_rate': 2.05e-05, 'epoch': 0.41}\n",
            "{'eval_loss': 0.19616220891475677, 'eval_precision': 0.6821860659382752, 'eval_recall': 0.6439654113235079, 'eval_f1': 0.6160652037603881, 'eval_runtime': 3.2811, 'eval_samples_per_second': 210.298, 'epoch': 0.41}\n",
            "{'loss': 0.1958, 'learning_rate': 2.1e-05, 'epoch': 0.42}\n",
            "{'eval_loss': 0.20145975053310394, 'eval_precision': 0.6714713876251197, 'eval_recall': 0.6849225694629281, 'eval_f1': 0.6213337390799252, 'eval_runtime': 3.2791, 'eval_samples_per_second': 210.423, 'epoch': 0.42}\n",
            "{'loss': 0.2535, 'learning_rate': 2.15e-05, 'epoch': 0.43}\n",
            "{'eval_loss': 0.19603842496871948, 'eval_precision': 0.6892949069546545, 'eval_recall': 0.6412824974614824, 'eval_f1': 0.6192245581727421, 'eval_runtime': 3.2634, 'eval_samples_per_second': 211.437, 'epoch': 0.43}\n",
            "{'loss': 0.2486, 'learning_rate': 2.2000000000000003e-05, 'epoch': 0.44}\n",
            "{'eval_loss': 0.19360555708408356, 'eval_precision': 0.7106798423347241, 'eval_recall': 0.6362776187094714, 'eval_f1': 0.6276588662358882, 'eval_runtime': 3.283, 'eval_samples_per_second': 210.171, 'epoch': 0.44}\n",
            "{'loss': 0.1471, 'learning_rate': 2.25e-05, 'epoch': 0.45}\n",
            "{'eval_loss': 0.19755251705646515, 'eval_precision': 0.6862993298407767, 'eval_recall': 0.5816435133840149, 'eval_f1': 0.5921984328949235, 'eval_runtime': 3.2572, 'eval_samples_per_second': 211.841, 'epoch': 0.45}\n",
            "{'loss': 0.184, 'learning_rate': 2.3000000000000003e-05, 'epoch': 0.46}\n",
            "{'eval_loss': 0.1981436014175415, 'eval_precision': 0.689516943444663, 'eval_recall': 0.579157550881039, 'eval_f1': 0.5939649265648569, 'eval_runtime': 3.279, 'eval_samples_per_second': 210.429, 'epoch': 0.46}\n",
            "{'loss': 0.1984, 'learning_rate': 2.35e-05, 'epoch': 0.47}\n",
            "{'eval_loss': 0.20163773000240326, 'eval_precision': 0.6864499427512825, 'eval_recall': 0.6995767960947739, 'eval_f1': 0.6373541103487668, 'eval_runtime': 3.2722, 'eval_samples_per_second': 210.868, 'epoch': 0.47}\n",
            "{'loss': 0.2702, 'learning_rate': 2.4e-05, 'epoch': 0.48}\n",
            "{'eval_loss': 0.20411525666713715, 'eval_precision': 0.6792563839544188, 'eval_recall': 0.7079330795289999, 'eval_f1': 0.6374065882961857, 'eval_runtime': 3.2717, 'eval_samples_per_second': 210.897, 'epoch': 0.48}\n",
            "{'loss': 0.2304, 'learning_rate': 2.45e-05, 'epoch': 0.49}\n",
            "{'eval_loss': 0.19409111142158508, 'eval_precision': 0.7227434593747623, 'eval_recall': 0.6784982068945864, 'eval_f1': 0.6521726401601021, 'eval_runtime': 3.2749, 'eval_samples_per_second': 210.692, 'epoch': 0.49}\n",
            "{'loss': 0.3166, 'learning_rate': 2.5e-05, 'epoch': 0.5}\n",
            "{'eval_loss': 0.1934405267238617, 'eval_precision': 0.7182579680915931, 'eval_recall': 0.661302466624768, 'eval_f1': 0.6437592662843425, 'eval_runtime': 3.2758, 'eval_samples_per_second': 210.637, 'epoch': 0.5}\n",
            "{'loss': 0.2226, 'learning_rate': 2.5500000000000003e-05, 'epoch': 0.51}\n",
            "{'eval_loss': 0.19359292089939117, 'eval_precision': 0.7228807359229362, 'eval_recall': 0.6609626743773691, 'eval_f1': 0.6462167091531833, 'eval_runtime': 3.2725, 'eval_samples_per_second': 210.847, 'epoch': 0.51}\n",
            "{'loss': 0.254, 'learning_rate': 2.6000000000000002e-05, 'epoch': 0.52}\n",
            "{'eval_loss': 0.19679197669029236, 'eval_precision': 0.710116560347597, 'eval_recall': 0.5994523682805851, 'eval_f1': 0.6107112945164666, 'eval_runtime': 3.2656, 'eval_samples_per_second': 211.292, 'epoch': 0.52}\n",
            "{'loss': 0.2536, 'learning_rate': 2.6500000000000004e-05, 'epoch': 0.53}\n",
            "{'eval_loss': 0.19503426551818848, 'eval_precision': 0.7161909179263103, 'eval_recall': 0.6681102651752434, 'eval_f1': 0.6445143539932043, 'eval_runtime': 3.2772, 'eval_samples_per_second': 210.547, 'epoch': 0.53}\n",
            "{'loss': 0.1474, 'learning_rate': 2.7000000000000002e-05, 'epoch': 0.54}\n",
            "{'eval_loss': 0.1906079649925232, 'eval_precision': 0.7275279573799251, 'eval_recall': 0.6434612526469639, 'eval_f1': 0.6401013214676652, 'eval_runtime': 3.2824, 'eval_samples_per_second': 210.211, 'epoch': 0.54}\n",
            "{'loss': 0.1463, 'learning_rate': 2.7500000000000004e-05, 'epoch': 0.55}\n",
            "{'eval_loss': 0.21012988686561584, 'eval_precision': 0.7044366319717982, 'eval_recall': 0.5870857310784963, 'eval_f1': 0.601127473015866, 'eval_runtime': 3.2667, 'eval_samples_per_second': 211.222, 'epoch': 0.55}\n",
            "{'loss': 0.2276, 'learning_rate': 2.8000000000000003e-05, 'epoch': 0.56}\n",
            "{'eval_loss': 0.19232836365699768, 'eval_precision': 0.7367914037283557, 'eval_recall': 0.6874197053578766, 'eval_f1': 0.6635369181345259, 'eval_runtime': 3.2722, 'eval_samples_per_second': 210.87, 'epoch': 0.56}\n",
            "{'loss': 0.1724, 'learning_rate': 2.8499999999999998e-05, 'epoch': 0.57}\n",
            "{'eval_loss': 0.19057625532150269, 'eval_precision': 0.7273321838044984, 'eval_recall': 0.6955041826878782, 'eval_f1': 0.6602338752650814, 'eval_runtime': 3.2815, 'eval_samples_per_second': 210.268, 'epoch': 0.57}\n",
            "{'loss': 0.3547, 'learning_rate': 2.9e-05, 'epoch': 0.58}\n",
            "{'eval_loss': 0.1918487399816513, 'eval_precision': 0.7361213477197847, 'eval_recall': 0.6925236929943004, 'eval_f1': 0.6631333816355947, 'eval_runtime': 3.3013, 'eval_samples_per_second': 209.007, 'epoch': 0.58}\n",
            "{'loss': 0.3643, 'learning_rate': 2.95e-05, 'epoch': 0.59}\n",
            "{'eval_loss': 0.2047813981771469, 'eval_precision': 0.7312476460315362, 'eval_recall': 0.6853087983390261, 'eval_f1': 0.657412841554467, 'eval_runtime': 3.2959, 'eval_samples_per_second': 209.352, 'epoch': 0.59}\n",
            "{'loss': 0.2943, 'learning_rate': 3e-05, 'epoch': 0.6}\n",
            "{'eval_loss': 0.19807332754135132, 'eval_precision': 0.7494403936781585, 'eval_recall': 0.6420450647372389, 'eval_f1': 0.6459796834266246, 'eval_runtime': 3.2713, 'eval_samples_per_second': 210.925, 'epoch': 0.6}\n",
            "{'loss': 0.4703, 'learning_rate': 3.05e-05, 'epoch': 0.61}\n",
            "{'eval_loss': 0.19210992753505707, 'eval_precision': 0.7106505911470339, 'eval_recall': 0.5811616842077529, 'eval_f1': 0.6005528773724094, 'eval_runtime': 3.2747, 'eval_samples_per_second': 210.706, 'epoch': 0.61}\n",
            "{'loss': 0.2064, 'learning_rate': 3.1e-05, 'epoch': 0.62}\n",
            "{'eval_loss': 0.19040507078170776, 'eval_precision': 0.7047213380771111, 'eval_recall': 0.5757434359034711, 'eval_f1': 0.5950825078114471, 'eval_runtime': 3.2782, 'eval_samples_per_second': 210.482, 'epoch': 0.62}\n",
            "{'loss': 0.2627, 'learning_rate': 3.15e-05, 'epoch': 0.63}\n",
            "{'eval_loss': 0.1894923597574234, 'eval_precision': 0.733755179584479, 'eval_recall': 0.6279510246261737, 'eval_f1': 0.6340192673067433, 'eval_runtime': 3.2669, 'eval_samples_per_second': 211.209, 'epoch': 0.63}\n",
            "{'loss': 0.3506, 'learning_rate': 3.2000000000000005e-05, 'epoch': 0.64}\n",
            "{'eval_loss': 0.19093680381774902, 'eval_precision': 0.7425895701324826, 'eval_recall': 0.6756908112595016, 'eval_f1': 0.6593529003348914, 'eval_runtime': 3.2753, 'eval_samples_per_second': 210.669, 'epoch': 0.64}\n",
            "{'loss': 0.1553, 'learning_rate': 3.2500000000000004e-05, 'epoch': 0.65}\n",
            "{'eval_loss': 0.18832442164421082, 'eval_precision': 0.759592448840828, 'eval_recall': 0.652470966693615, 'eval_f1': 0.6583108742534145, 'eval_runtime': 3.2866, 'eval_samples_per_second': 209.945, 'epoch': 0.65}\n",
            "{'loss': 0.2056, 'learning_rate': 3.3e-05, 'epoch': 0.66}\n",
            "{'eval_loss': 0.18984350562095642, 'eval_precision': 0.7628425795711377, 'eval_recall': 0.6452259945719473, 'eval_f1': 0.6563112367040007, 'eval_runtime': 3.2745, 'eval_samples_per_second': 210.721, 'epoch': 0.66}\n",
            "{'loss': 0.2171, 'learning_rate': 3.35e-05, 'epoch': 0.67}\n",
            "{'eval_loss': 0.18542388081550598, 'eval_precision': 0.7634241123682803, 'eval_recall': 0.6692895061739428, 'eval_f1': 0.6668877729983869, 'eval_runtime': 3.2717, 'eval_samples_per_second': 210.901, 'epoch': 0.67}\n",
            "{'loss': 0.2247, 'learning_rate': 3.4000000000000007e-05, 'epoch': 0.68}\n",
            "{'eval_loss': 0.1885254830121994, 'eval_precision': 0.7428730511303617, 'eval_recall': 0.6887166763909812, 'eval_f1': 0.6635983577140121, 'eval_runtime': 3.2745, 'eval_samples_per_second': 210.72, 'epoch': 0.68}\n",
            "{'loss': 0.1267, 'learning_rate': 3.45e-05, 'epoch': 0.69}\n",
            "{'eval_loss': 0.19071973860263824, 'eval_precision': 0.7669018260670001, 'eval_recall': 0.6619787601069307, 'eval_f1': 0.6636087792287978, 'eval_runtime': 3.2744, 'eval_samples_per_second': 210.726, 'epoch': 0.69}\n",
            "{'loss': 0.1656, 'learning_rate': 3.5e-05, 'epoch': 0.7}\n",
            "{'eval_loss': 0.19933325052261353, 'eval_precision': 0.7477753778386874, 'eval_recall': 0.6274817612578312, 'eval_f1': 0.6415831315761207, 'eval_runtime': 3.2642, 'eval_samples_per_second': 211.384, 'epoch': 0.7}\n",
            "{'loss': 0.3582, 'learning_rate': 3.55e-05, 'epoch': 0.71}\n",
            "{'eval_loss': 0.18860191106796265, 'eval_precision': 0.7378233052380869, 'eval_recall': 0.6953779403696166, 'eval_f1': 0.6644532539598853, 'eval_runtime': 3.2687, 'eval_samples_per_second': 211.093, 'epoch': 0.71}\n",
            "{'loss': 0.1513, 'learning_rate': 3.6e-05, 'epoch': 0.72}\n",
            "{'eval_loss': 0.18528316915035248, 'eval_precision': 0.7516528666416826, 'eval_recall': 0.6666069103653048, 'eval_f1': 0.6587574577194321, 'eval_runtime': 3.2741, 'eval_samples_per_second': 210.743, 'epoch': 0.72}\n",
            "{'loss': 0.1254, 'learning_rate': 3.65e-05, 'epoch': 0.73}\n",
            "{'eval_loss': 0.19690783321857452, 'eval_precision': 0.7436607128550964, 'eval_recall': 0.6136300282295555, 'eval_f1': 0.6317102100937076, 'eval_runtime': 3.2744, 'eval_samples_per_second': 210.728, 'epoch': 0.73}\n",
            "{'loss': 0.1737, 'learning_rate': 3.7e-05, 'epoch': 0.74}\n",
            "{'eval_loss': 0.18803943693637848, 'eval_precision': 0.762609169008752, 'eval_recall': 0.6715514181005925, 'eval_f1': 0.6686851656656493, 'eval_runtime': 3.2684, 'eval_samples_per_second': 211.116, 'epoch': 0.74}\n",
            "{'loss': 0.2794, 'learning_rate': 3.7500000000000003e-05, 'epoch': 0.75}\n",
            "{'eval_loss': 0.19099032878875732, 'eval_precision': 0.7395268695845303, 'eval_recall': 0.7240931257002634, 'eval_f1': 0.6793839610462212, 'eval_runtime': 3.2736, 'eval_samples_per_second': 210.777, 'epoch': 0.75}\n",
            "{'loss': 0.1474, 'learning_rate': 3.8e-05, 'epoch': 0.76}\n",
            "{'eval_loss': 0.19026927649974823, 'eval_precision': 0.7589578903906202, 'eval_recall': 0.6006387326546192, 'eval_f1': 0.62997012695775, 'eval_runtime': 3.2652, 'eval_samples_per_second': 211.318, 'epoch': 0.76}\n",
            "{'loss': 0.2069, 'learning_rate': 3.85e-05, 'epoch': 0.77}\n",
            "{'eval_loss': 0.19403687119483948, 'eval_precision': 0.7765523867505555, 'eval_recall': 0.6347254098911556, 'eval_f1': 0.6556116162846907, 'eval_runtime': 3.2837, 'eval_samples_per_second': 210.131, 'epoch': 0.77}\n",
            "{'loss': 0.1868, 'learning_rate': 3.9000000000000006e-05, 'epoch': 0.78}\n",
            "{'eval_loss': 0.18553347885608673, 'eval_precision': 0.7464134907869834, 'eval_recall': 0.7029353888659331, 'eval_f1': 0.6743425064485387, 'eval_runtime': 3.2708, 'eval_samples_per_second': 210.955, 'epoch': 0.78}\n",
            "{'loss': 0.1731, 'learning_rate': 3.9500000000000005e-05, 'epoch': 0.79}\n",
            "{'eval_loss': 0.1829851269721985, 'eval_precision': 0.7555364335952929, 'eval_recall': 0.7023165555259582, 'eval_f1': 0.676155104708081, 'eval_runtime': 3.2701, 'eval_samples_per_second': 211.003, 'epoch': 0.79}\n",
            "{'loss': 0.1784, 'learning_rate': 4e-05, 'epoch': 0.8}\n",
            "{'eval_loss': 0.182498961687088, 'eval_precision': 0.7749262594189055, 'eval_recall': 0.6611556754760413, 'eval_f1': 0.6690003985138532, 'eval_runtime': 3.2714, 'eval_samples_per_second': 210.916, 'epoch': 0.8}\n",
            "{'loss': 0.4172, 'learning_rate': 4.05e-05, 'epoch': 0.81}\n",
            "{'eval_loss': 0.1912979781627655, 'eval_precision': 0.7696465290877392, 'eval_recall': 0.6430202356790347, 'eval_f1': 0.6579177973310077, 'eval_runtime': 3.2849, 'eval_samples_per_second': 210.051, 'epoch': 0.81}\n",
            "{'loss': 0.3102, 'learning_rate': 4.1e-05, 'epoch': 0.82}\n",
            "{'eval_loss': 0.18571697175502777, 'eval_precision': 0.7598959840433576, 'eval_recall': 0.6978207606500024, 'eval_f1': 0.6759352406757476, 'eval_runtime': 3.2854, 'eval_samples_per_second': 210.018, 'epoch': 0.82}\n",
            "{'loss': 0.1538, 'learning_rate': 4.15e-05, 'epoch': 0.84}\n",
            "{'eval_loss': 0.18715296685695648, 'eval_precision': 0.7573366951870558, 'eval_recall': 0.6657692985586955, 'eval_f1': 0.662403697955314, 'eval_runtime': 3.2696, 'eval_samples_per_second': 211.034, 'epoch': 0.84}\n",
            "{'loss': 0.3385, 'learning_rate': 4.2e-05, 'epoch': 0.85}\n",
            "{'eval_loss': 0.19314734637737274, 'eval_precision': 0.7505962257382368, 'eval_recall': 0.6207320519113854, 'eval_f1': 0.6390924400840233, 'eval_runtime': 3.2744, 'eval_samples_per_second': 210.727, 'epoch': 0.85}\n",
            "{'loss': 0.176, 'learning_rate': 4.25e-05, 'epoch': 0.86}\n",
            "{'eval_loss': 0.1844206154346466, 'eval_precision': 0.7606045859587285, 'eval_recall': 0.6545299116482358, 'eval_f1': 0.6586709857042081, 'eval_runtime': 3.2952, 'eval_samples_per_second': 209.392, 'epoch': 0.86}\n",
            "{'loss': 0.2404, 'learning_rate': 4.3e-05, 'epoch': 0.87}\n",
            "{'eval_loss': 0.20022368431091309, 'eval_precision': 0.7450473552368689, 'eval_recall': 0.6911194492013655, 'eval_f1': 0.666538153303081, 'eval_runtime': 3.2877, 'eval_samples_per_second': 209.875, 'epoch': 0.87}\n",
            "{'loss': 0.235, 'learning_rate': 4.35e-05, 'epoch': 0.88}\n",
            "{'eval_loss': 0.19018274545669556, 'eval_precision': 0.7532393116793515, 'eval_recall': 0.6720373706065835, 'eval_f1': 0.6635806914173655, 'eval_runtime': 3.2599, 'eval_samples_per_second': 211.66, 'epoch': 0.88}\n",
            "{'loss': 0.1713, 'learning_rate': 4.4000000000000006e-05, 'epoch': 0.89}\n",
            "{'eval_loss': 0.19016683101654053, 'eval_precision': 0.7424206900194364, 'eval_recall': 0.6176801083677559, 'eval_f1': 0.6333565757415069, 'eval_runtime': 3.268, 'eval_samples_per_second': 211.138, 'epoch': 0.89}\n",
            "{'loss': 0.1951, 'learning_rate': 4.4500000000000004e-05, 'epoch': 0.9}\n",
            "{'eval_loss': 0.18493056297302246, 'eval_precision': 0.7759114375731099, 'eval_recall': 0.6681483180138564, 'eval_f1': 0.6723097609336948, 'eval_runtime': 3.2879, 'eval_samples_per_second': 209.863, 'epoch': 0.9}\n",
            "{'loss': 0.2343, 'learning_rate': 4.5e-05, 'epoch': 0.91}\n",
            "{'eval_loss': 0.18683303892612457, 'eval_precision': 0.7585337420155902, 'eval_recall': 0.7042498929513693, 'eval_f1': 0.678800485539363, 'eval_runtime': 3.2742, 'eval_samples_per_second': 210.74, 'epoch': 0.91}\n",
            "{'loss': 0.2411, 'learning_rate': 4.55e-05, 'epoch': 0.92}\n",
            "{'eval_loss': 0.1822674423456192, 'eval_precision': 0.7903255062193008, 'eval_recall': 0.6451099658041858, 'eval_f1': 0.6653424379127533, 'eval_runtime': 3.2738, 'eval_samples_per_second': 210.767, 'epoch': 0.92}\n",
            "{'loss': 0.2411, 'learning_rate': 4.600000000000001e-05, 'epoch': 0.93}\n",
            "{'eval_loss': 0.18401333689689636, 'eval_precision': 0.788797859857895, 'eval_recall': 0.6361327218847868, 'eval_f1': 0.6592393368522024, 'eval_runtime': 3.2756, 'eval_samples_per_second': 210.648, 'epoch': 0.93}\n",
            "{'loss': 0.1574, 'learning_rate': 4.6500000000000005e-05, 'epoch': 0.94}\n",
            "{'eval_loss': 0.18260246515274048, 'eval_precision': 0.7774691115206237, 'eval_recall': 0.6937639894489678, 'eval_f1': 0.6849742730167804, 'eval_runtime': 3.283, 'eval_samples_per_second': 210.173, 'epoch': 0.94}\n",
            "{'loss': 0.3451, 'learning_rate': 4.7e-05, 'epoch': 0.95}\n",
            "{'eval_loss': 0.18550346791744232, 'eval_precision': 0.7763992517591304, 'eval_recall': 0.6806387655797422, 'eval_f1': 0.6782531431748808, 'eval_runtime': 3.2672, 'eval_samples_per_second': 211.188, 'epoch': 0.95}\n",
            "{'loss': 0.1053, 'learning_rate': 4.75e-05, 'epoch': 0.96}\n",
            "{'eval_loss': 0.1897260546684265, 'eval_precision': 0.7800467785938935, 'eval_recall': 0.6435870600313379, 'eval_f1': 0.6615161013075845, 'eval_runtime': 3.269, 'eval_samples_per_second': 211.072, 'epoch': 0.96}\n",
            "{'loss': 0.1607, 'learning_rate': 4.8e-05, 'epoch': 0.97}\n",
            "{'eval_loss': 0.18489398062229156, 'eval_precision': 0.7762767950052775, 'eval_recall': 0.6607570498149143, 'eval_f1': 0.6698209951430116, 'eval_runtime': 3.2724, 'eval_samples_per_second': 210.857, 'epoch': 0.97}\n",
            "{'loss': 0.2559, 'learning_rate': 4.85e-05, 'epoch': 0.98}\n",
            "{'eval_loss': 0.1857513189315796, 'eval_precision': 0.7522698802611331, 'eval_recall': 0.7033463505292761, 'eval_f1': 0.6768739320507989, 'eval_runtime': 3.2725, 'eval_samples_per_second': 210.848, 'epoch': 0.98}\n",
            "{'loss': 0.2608, 'learning_rate': 4.9e-05, 'epoch': 0.99}\n",
            "{'eval_loss': 0.18718720972537994, 'eval_precision': 0.7602436216312267, 'eval_recall': 0.6834737387453251, 'eval_f1': 0.671085209495626, 'eval_runtime': 3.2601, 'eval_samples_per_second': 211.649, 'epoch': 0.99}\n",
            "{'loss': 0.173, 'learning_rate': 4.9500000000000004e-05, 'epoch': 1.0}\n",
            "{'eval_loss': 0.1796560138463974, 'eval_precision': 0.7643652764046441, 'eval_recall': 0.63917175498526, 'eval_f1': 0.6514961216648331, 'eval_runtime': 3.268, 'eval_samples_per_second': 211.138, 'epoch': 1.0}\n",
            "{'loss': 0.1636, 'learning_rate': 5e-05, 'epoch': 1.01}\n",
            "{'eval_loss': 0.1957385540008545, 'eval_precision': 0.7301034854154386, 'eval_recall': 0.5919131920331029, 'eval_f1': 0.6148472295946807, 'eval_runtime': 3.2762, 'eval_samples_per_second': 210.607, 'epoch': 1.01}\n",
            "{'loss': 0.2442, 'learning_rate': 4.945054945054945e-05, 'epoch': 1.02}\n",
            "{'eval_loss': 0.19106581807136536, 'eval_precision': 0.75392701185261, 'eval_recall': 0.6978679431070508, 'eval_f1': 0.6745894485171313, 'eval_runtime': 3.2966, 'eval_samples_per_second': 209.305, 'epoch': 1.02}\n",
            "{'loss': 0.2276, 'learning_rate': 4.8901098901098904e-05, 'epoch': 1.03}\n",
            "{'eval_loss': 0.20639750361442566, 'eval_precision': 0.7057739668605492, 'eval_recall': 0.7508379845943943, 'eval_f1': 0.6708485035556622, 'eval_runtime': 3.3196, 'eval_samples_per_second': 207.856, 'epoch': 1.03}\n",
            "{'loss': 0.125, 'learning_rate': 4.8351648351648355e-05, 'epoch': 1.04}\n",
            "{'eval_loss': 0.18582241237163544, 'eval_precision': 0.7843767229554377, 'eval_recall': 0.6610889919793149, 'eval_f1': 0.6725058239968231, 'eval_runtime': 3.3327, 'eval_samples_per_second': 207.042, 'epoch': 1.04}\n",
            "{'loss': 0.1702, 'learning_rate': 4.7802197802197806e-05, 'epoch': 1.05}\n",
            "{'eval_loss': 0.19367747008800507, 'eval_precision': 0.7701763347202286, 'eval_recall': 0.6255569876076186, 'eval_f1': 0.6458277503889804, 'eval_runtime': 3.2684, 'eval_samples_per_second': 211.112, 'epoch': 1.05}\n",
            "{'loss': 0.2746, 'learning_rate': 4.7252747252747257e-05, 'epoch': 1.06}\n",
            "{'eval_loss': 0.1820913851261139, 'eval_precision': 0.7582346975915526, 'eval_recall': 0.6947475091441211, 'eval_f1': 0.6765868781761486, 'eval_runtime': 3.2762, 'eval_samples_per_second': 210.609, 'epoch': 1.06}\n",
            "{'loss': 0.1031, 'learning_rate': 4.670329670329671e-05, 'epoch': 1.07}\n",
            "{'eval_loss': 0.1826123595237732, 'eval_precision': 0.7527739419041967, 'eval_recall': 0.7048063816308285, 'eval_f1': 0.6784572678909321, 'eval_runtime': 3.2824, 'eval_samples_per_second': 210.211, 'epoch': 1.07}\n",
            "{'loss': 0.1449, 'learning_rate': 4.615384615384616e-05, 'epoch': 1.08}\n",
            "{'eval_loss': 0.18542955815792084, 'eval_precision': 0.7683441098024376, 'eval_recall': 0.6770007439415683, 'eval_f1': 0.6735741970688794, 'eval_runtime': 3.2737, 'eval_samples_per_second': 210.769, 'epoch': 1.08}\n",
            "{'loss': 0.1455, 'learning_rate': 4.56043956043956e-05, 'epoch': 1.09}\n",
            "{'eval_loss': 0.18839982151985168, 'eval_precision': 0.7686447421677923, 'eval_recall': 0.6773404045370356, 'eval_f1': 0.673345178158429, 'eval_runtime': 3.2664, 'eval_samples_per_second': 211.243, 'epoch': 1.09}\n",
            "{'loss': 0.1187, 'learning_rate': 4.505494505494506e-05, 'epoch': 1.1}\n",
            "{'eval_loss': 0.1883600354194641, 'eval_precision': 0.7700329326010876, 'eval_recall': 0.6773894053055114, 'eval_f1': 0.6740478261619733, 'eval_runtime': 3.2588, 'eval_samples_per_second': 211.735, 'epoch': 1.1}\n",
            "{'loss': 0.3721, 'learning_rate': 4.4505494505494504e-05, 'epoch': 1.11}\n",
            "{'eval_loss': 0.18617713451385498, 'eval_precision': 0.7780297875494505, 'eval_recall': 0.6650100139279697, 'eval_f1': 0.6711694874240538, 'eval_runtime': 3.2572, 'eval_samples_per_second': 211.837, 'epoch': 1.11}\n",
            "{'loss': 0.302, 'learning_rate': 4.3956043956043955e-05, 'epoch': 1.12}\n",
            "{'eval_loss': 0.17935773730278015, 'eval_precision': 0.7664926303396246, 'eval_recall': 0.700011905829752, 'eval_f1': 0.6818200543278786, 'eval_runtime': 3.2656, 'eval_samples_per_second': 211.292, 'epoch': 1.12}\n",
            "{'loss': 0.1519, 'learning_rate': 4.340659340659341e-05, 'epoch': 1.13}\n",
            "{'eval_loss': 0.17808853089809418, 'eval_precision': 0.7738533294759338, 'eval_recall': 0.6461597004906904, 'eval_f1': 0.659171731305867, 'eval_runtime': 3.2686, 'eval_samples_per_second': 211.097, 'epoch': 1.13}\n",
            "{'loss': 0.4599, 'learning_rate': 4.2857142857142856e-05, 'epoch': 1.14}\n",
            "{'eval_loss': 0.17815524339675903, 'eval_precision': 0.7732764358710417, 'eval_recall': 0.6531587599859727, 'eval_f1': 0.6630944966191022, 'eval_runtime': 3.264, 'eval_samples_per_second': 211.395, 'epoch': 1.14}\n",
            "{'loss': 0.3956, 'learning_rate': 4.230769230769231e-05, 'epoch': 1.15}\n",
            "{'eval_loss': 0.18706579506397247, 'eval_precision': 0.7628526568707319, 'eval_recall': 0.715656941921943, 'eval_f1': 0.6879207073942997, 'eval_runtime': 3.2687, 'eval_samples_per_second': 211.091, 'epoch': 1.15}\n",
            "{'loss': 0.1399, 'learning_rate': 4.1758241758241765e-05, 'epoch': 1.16}\n",
            "{'eval_loss': 0.1802436113357544, 'eval_precision': 0.7836918506207441, 'eval_recall': 0.6868869043107256, 'eval_f1': 0.6845490903782332, 'eval_runtime': 3.2587, 'eval_samples_per_second': 211.738, 'epoch': 1.16}\n",
            "{'loss': 0.2261, 'learning_rate': 4.120879120879121e-05, 'epoch': 1.17}\n",
            "{'eval_loss': 0.18402135372161865, 'eval_precision': 0.7864132240154444, 'eval_recall': 0.6685783477628554, 'eval_f1': 0.6756583171260201, 'eval_runtime': 3.2736, 'eval_samples_per_second': 210.779, 'epoch': 1.17}\n",
            "{'loss': 0.1223, 'learning_rate': 4.065934065934066e-05, 'epoch': 1.18}\n",
            "{'eval_loss': 0.18418873846530914, 'eval_precision': 0.7783403623096005, 'eval_recall': 0.6821596707497521, 'eval_f1': 0.6782846539216091, 'eval_runtime': 3.2794, 'eval_samples_per_second': 210.406, 'epoch': 1.18}\n",
            "{'loss': 0.1137, 'learning_rate': 4.010989010989011e-05, 'epoch': 1.19}\n",
            "{'eval_loss': 0.18567921221256256, 'eval_precision': 0.7469386425979485, 'eval_recall': 0.7263124516090921, 'eval_f1': 0.6840953273328695, 'eval_runtime': 3.2768, 'eval_samples_per_second': 210.568, 'epoch': 1.19}\n",
            "{'loss': 0.2286, 'learning_rate': 3.956043956043956e-05, 'epoch': 1.2}\n",
            "{'eval_loss': 0.182306706905365, 'eval_precision': 0.7507311329069244, 'eval_recall': 0.7231634706896364, 'eval_f1': 0.6839618170969745, 'eval_runtime': 3.2695, 'eval_samples_per_second': 211.039, 'epoch': 1.2}\n",
            "{'loss': 0.1781, 'learning_rate': 3.901098901098901e-05, 'epoch': 1.21}\n",
            "{'eval_loss': 0.18241122364997864, 'eval_precision': 0.7774410805749703, 'eval_recall': 0.6819997804058663, 'eval_f1': 0.6796983213896163, 'eval_runtime': 3.2768, 'eval_samples_per_second': 210.569, 'epoch': 1.21}\n",
            "{'loss': 0.2275, 'learning_rate': 3.846153846153846e-05, 'epoch': 1.22}\n",
            "{'eval_loss': 0.18900646269321442, 'eval_precision': 0.7532361165835657, 'eval_recall': 0.7195552684929227, 'eval_f1': 0.6853536402940064, 'eval_runtime': 3.2666, 'eval_samples_per_second': 211.231, 'epoch': 1.22}\n",
            "{'loss': 0.1604, 'learning_rate': 3.7912087912087914e-05, 'epoch': 1.23}\n",
            "{'eval_loss': 0.18796566128730774, 'eval_precision': 0.7835101962825786, 'eval_recall': 0.6726370049603239, 'eval_f1': 0.6750973512803538, 'eval_runtime': 3.2732, 'eval_samples_per_second': 210.801, 'epoch': 1.23}\n",
            "{'loss': 0.2164, 'learning_rate': 3.7362637362637365e-05, 'epoch': 1.24}\n",
            "{'eval_loss': 0.19071996212005615, 'eval_precision': 0.7915776171230374, 'eval_recall': 0.6737243256154725, 'eval_f1': 0.6808375128459105, 'eval_runtime': 3.2969, 'eval_samples_per_second': 209.289, 'epoch': 1.24}\n",
            "{'loss': 0.1054, 'learning_rate': 3.6813186813186815e-05, 'epoch': 1.25}\n",
            "{'eval_loss': 0.1839967519044876, 'eval_precision': 0.7828476779357176, 'eval_recall': 0.6832097307103057, 'eval_f1': 0.6816976221301457, 'eval_runtime': 3.277, 'eval_samples_per_second': 210.558, 'epoch': 1.25}\n",
            "{'loss': 0.1583, 'learning_rate': 3.6263736263736266e-05, 'epoch': 1.26}\n",
            "{'eval_loss': 0.18275856971740723, 'eval_precision': 0.776346238336279, 'eval_recall': 0.6852705043132161, 'eval_f1': 0.6805248855423169, 'eval_runtime': 3.2726, 'eval_samples_per_second': 210.841, 'epoch': 1.26}\n",
            "{'loss': 0.1746, 'learning_rate': 3.571428571428572e-05, 'epoch': 1.27}\n",
            "{'eval_loss': 0.18071050941944122, 'eval_precision': 0.7649985930546719, 'eval_recall': 0.6896010295796998, 'eval_f1': 0.6767197920997192, 'eval_runtime': 3.2784, 'eval_samples_per_second': 210.471, 'epoch': 1.27}\n",
            "{'loss': 0.1944, 'learning_rate': 3.516483516483517e-05, 'epoch': 1.28}\n",
            "{'eval_loss': 0.17961911857128143, 'eval_precision': 0.7697741932877814, 'eval_recall': 0.6823048555806469, 'eval_f1': 0.6747011925103079, 'eval_runtime': 3.2842, 'eval_samples_per_second': 210.097, 'epoch': 1.28}\n",
            "{'loss': 0.2098, 'learning_rate': 3.461538461538462e-05, 'epoch': 1.29}\n",
            "{'eval_loss': 0.18054644763469696, 'eval_precision': 0.7705901803176651, 'eval_recall': 0.6574799556192673, 'eval_f1': 0.6630379062608514, 'eval_runtime': 3.2615, 'eval_samples_per_second': 211.558, 'epoch': 1.29}\n",
            "{'loss': 0.2044, 'learning_rate': 3.406593406593407e-05, 'epoch': 1.3}\n",
            "{'eval_loss': 0.18110410869121552, 'eval_precision': 0.7770993672328622, 'eval_recall': 0.6643297215273156, 'eval_f1': 0.6686620196717534, 'eval_runtime': 3.2578, 'eval_samples_per_second': 211.8, 'epoch': 1.3}\n",
            "{'loss': 0.2552, 'learning_rate': 3.3516483516483513e-05, 'epoch': 1.31}\n",
            "{'eval_loss': 0.18635472655296326, 'eval_precision': 0.7666075769818548, 'eval_recall': 0.6933106986490498, 'eval_f1': 0.6781069541124956, 'eval_runtime': 3.2696, 'eval_samples_per_second': 211.035, 'epoch': 1.31}\n",
            "{'loss': 0.1983, 'learning_rate': 3.296703296703297e-05, 'epoch': 1.32}\n",
            "{'eval_loss': 0.18633951246738434, 'eval_precision': 0.7707830849262665, 'eval_recall': 0.6867441272380599, 'eval_f1': 0.6769640206105273, 'eval_runtime': 3.2649, 'eval_samples_per_second': 211.339, 'epoch': 1.32}\n",
            "{'loss': 0.221, 'learning_rate': 3.241758241758242e-05, 'epoch': 1.33}\n",
            "{'eval_loss': 0.18400341272354126, 'eval_precision': 0.7750514766153198, 'eval_recall': 0.6662298926427431, 'eval_f1': 0.670091749920749, 'eval_runtime': 3.2633, 'eval_samples_per_second': 211.445, 'epoch': 1.33}\n",
            "{'loss': 0.1322, 'learning_rate': 3.1868131868131866e-05, 'epoch': 1.34}\n",
            "{'eval_loss': 0.19493363797664642, 'eval_precision': 0.7508046593007557, 'eval_recall': 0.606163244200768, 'eval_f1': 0.6293824522394857, 'eval_runtime': 3.2648, 'eval_samples_per_second': 211.342, 'epoch': 1.34}\n",
            "{'loss': 0.1864, 'learning_rate': 3.131868131868132e-05, 'epoch': 1.35}\n",
            "{'eval_loss': 0.19346536695957184, 'eval_precision': 0.7642150170589397, 'eval_recall': 0.6202992107773304, 'eval_f1': 0.6427614753124735, 'eval_runtime': 3.2679, 'eval_samples_per_second': 211.144, 'epoch': 1.35}\n",
            "{'loss': 0.2066, 'learning_rate': 3.0769230769230774e-05, 'epoch': 1.36}\n",
            "{'eval_loss': 0.18416260182857513, 'eval_precision': 0.7679416368346164, 'eval_recall': 0.6785259744217318, 'eval_f1': 0.6732551212476875, 'eval_runtime': 3.2651, 'eval_samples_per_second': 211.325, 'epoch': 1.36}\n",
            "{'loss': 0.325, 'learning_rate': 3.021978021978022e-05, 'epoch': 1.37}\n",
            "{'eval_loss': 0.18489424884319305, 'eval_precision': 0.75014302821956, 'eval_recall': 0.7010245561940199, 'eval_f1': 0.6751705850516767, 'eval_runtime': 3.2628, 'eval_samples_per_second': 211.475, 'epoch': 1.37}\n",
            "{'loss': 0.1693, 'learning_rate': 2.9670329670329673e-05, 'epoch': 1.38}\n",
            "{'eval_loss': 0.1840512752532959, 'eval_precision': 0.7599356714999101, 'eval_recall': 0.6973745970485992, 'eval_f1': 0.679298656860175, 'eval_runtime': 3.2835, 'eval_samples_per_second': 210.144, 'epoch': 1.38}\n",
            "{'loss': 0.1451, 'learning_rate': 2.9120879120879123e-05, 'epoch': 1.39}\n",
            "{'eval_loss': 0.18272016942501068, 'eval_precision': 0.782992661860802, 'eval_recall': 0.6611358092974918, 'eval_f1': 0.6706114032775693, 'eval_runtime': 3.2749, 'eval_samples_per_second': 210.696, 'epoch': 1.39}\n",
            "{'loss': 0.3826, 'learning_rate': 2.857142857142857e-05, 'epoch': 1.4}\n",
            "{'eval_loss': 0.18272416293621063, 'eval_precision': 0.7880832785468113, 'eval_recall': 0.6581395465772549, 'eval_f1': 0.6720306950773107, 'eval_runtime': 3.2605, 'eval_samples_per_second': 211.625, 'epoch': 1.4}\n",
            "{'loss': 0.2, 'learning_rate': 2.8021978021978025e-05, 'epoch': 1.41}\n",
            "{'eval_loss': 0.17899759113788605, 'eval_precision': 0.7818568353018096, 'eval_recall': 0.6664744599009399, 'eval_f1': 0.6729044734583747, 'eval_runtime': 3.2679, 'eval_samples_per_second': 211.144, 'epoch': 1.41}\n",
            "{'loss': 0.1365, 'learning_rate': 2.7472527472527476e-05, 'epoch': 1.42}\n",
            "{'eval_loss': 0.17787303030490875, 'eval_precision': 0.7810341055308699, 'eval_recall': 0.6716104000901995, 'eval_f1': 0.6744815577362949, 'eval_runtime': 3.2741, 'eval_samples_per_second': 210.746, 'epoch': 1.42}\n",
            "{'loss': 0.2295, 'learning_rate': 2.6923076923076923e-05, 'epoch': 1.43}\n",
            "{'eval_loss': 0.17788399755954742, 'eval_precision': 0.779556172162944, 'eval_recall': 0.6710235236575317, 'eval_f1': 0.6734529282966802, 'eval_runtime': 3.2708, 'eval_samples_per_second': 210.956, 'epoch': 1.43}\n",
            "{'loss': 0.1247, 'learning_rate': 2.6373626373626374e-05, 'epoch': 1.44}\n",
            "{'eval_loss': 0.17743656039237976, 'eval_precision': 0.7858738224880013, 'eval_recall': 0.6544410992681755, 'eval_f1': 0.6699377258120675, 'eval_runtime': 3.2703, 'eval_samples_per_second': 210.993, 'epoch': 1.44}\n",
            "{'loss': 0.1536, 'learning_rate': 2.582417582417583e-05, 'epoch': 1.45}\n",
            "{'eval_loss': 0.17908664047718048, 'eval_precision': 0.7873742403471148, 'eval_recall': 0.6602793337466086, 'eval_f1': 0.6728806532763948, 'eval_runtime': 3.258, 'eval_samples_per_second': 211.789, 'epoch': 1.45}\n",
            "{'loss': 0.2409, 'learning_rate': 2.5274725274725276e-05, 'epoch': 1.46}\n",
            "{'eval_loss': 0.1799091249704361, 'eval_precision': 0.7836658056214973, 'eval_recall': 0.6760180205971617, 'eval_f1': 0.6790904524456409, 'eval_runtime': 3.2944, 'eval_samples_per_second': 209.444, 'epoch': 1.46}\n",
            "{'loss': 0.155, 'learning_rate': 2.4725274725274727e-05, 'epoch': 1.47}\n",
            "{'eval_loss': 0.18067005276679993, 'eval_precision': 0.7813940258338604, 'eval_recall': 0.6880264663233949, 'eval_f1': 0.6850418078039452, 'eval_runtime': 3.2746, 'eval_samples_per_second': 210.715, 'epoch': 1.47}\n",
            "{'loss': 0.2089, 'learning_rate': 2.4175824175824177e-05, 'epoch': 1.48}\n",
            "{'eval_loss': 0.1805919110774994, 'eval_precision': 0.7779037306447247, 'eval_recall': 0.6978186184558891, 'eval_f1': 0.6870740431656152, 'eval_runtime': 3.276, 'eval_samples_per_second': 210.621, 'epoch': 1.48}\n",
            "{'loss': 0.1267, 'learning_rate': 2.3626373626373628e-05, 'epoch': 1.49}\n",
            "{'eval_loss': 0.18141236901283264, 'eval_precision': 0.7747690014045011, 'eval_recall': 0.6991075237552132, 'eval_f1': 0.6868372283284666, 'eval_runtime': 3.3122, 'eval_samples_per_second': 208.318, 'epoch': 1.49}\n",
            "{'loss': 0.1359, 'learning_rate': 2.307692307692308e-05, 'epoch': 1.5}\n",
            "{'eval_loss': 0.1821102797985077, 'eval_precision': 0.7785397510638901, 'eval_recall': 0.6801454378786332, 'eval_f1': 0.6781629918464264, 'eval_runtime': 3.2675, 'eval_samples_per_second': 211.169, 'epoch': 1.5}\n",
            "{'loss': 0.2128, 'learning_rate': 2.252747252747253e-05, 'epoch': 1.51}\n",
            "{'eval_loss': 0.18413278460502625, 'eval_precision': 0.7789978685659856, 'eval_recall': 0.6753327251079027, 'eval_f1': 0.6757037571866225, 'eval_runtime': 3.2615, 'eval_samples_per_second': 211.558, 'epoch': 1.51}\n",
            "{'loss': 0.2548, 'learning_rate': 2.1978021978021977e-05, 'epoch': 1.52}\n",
            "{'eval_loss': 0.18464526534080505, 'eval_precision': 0.7710584418463223, 'eval_recall': 0.6792162158079932, 'eval_f1': 0.6747607619159047, 'eval_runtime': 3.2655, 'eval_samples_per_second': 211.298, 'epoch': 1.52}\n",
            "{'loss': 0.4034, 'learning_rate': 2.1428571428571428e-05, 'epoch': 1.53}\n",
            "{'eval_loss': 0.1853325068950653, 'eval_precision': 0.7620380175116616, 'eval_recall': 0.7003228458229519, 'eval_f1': 0.6805092702142717, 'eval_runtime': 3.2615, 'eval_samples_per_second': 211.557, 'epoch': 1.53}\n",
            "{'loss': 0.1422, 'learning_rate': 2.0879120879120882e-05, 'epoch': 1.54}\n",
            "{'eval_loss': 0.1850261688232422, 'eval_precision': 0.7628489289811369, 'eval_recall': 0.6939435227510052, 'eval_f1': 0.6765127967378692, 'eval_runtime': 3.2713, 'eval_samples_per_second': 210.923, 'epoch': 1.54}\n",
            "{'loss': 0.3171, 'learning_rate': 2.032967032967033e-05, 'epoch': 1.55}\n",
            "{'eval_loss': 0.18384428322315216, 'eval_precision': 0.7715806433219234, 'eval_recall': 0.6843916593518576, 'eval_f1': 0.677279492165727, 'eval_runtime': 3.261, 'eval_samples_per_second': 211.594, 'epoch': 1.55}\n",
            "{'loss': 0.1403, 'learning_rate': 1.978021978021978e-05, 'epoch': 1.56}\n",
            "{'eval_loss': 0.18435218930244446, 'eval_precision': 0.7882340066382574, 'eval_recall': 0.6731083028153337, 'eval_f1': 0.6817712554989958, 'eval_runtime': 3.266, 'eval_samples_per_second': 211.266, 'epoch': 1.56}\n",
            "{'loss': 0.1844, 'learning_rate': 1.923076923076923e-05, 'epoch': 1.57}\n",
            "{'eval_loss': 0.1837344616651535, 'eval_precision': 0.7811330908636872, 'eval_recall': 0.6847522584929923, 'eval_f1': 0.6827987017624314, 'eval_runtime': 3.2685, 'eval_samples_per_second': 211.106, 'epoch': 1.57}\n",
            "{'loss': 0.2366, 'learning_rate': 1.8681318681318682e-05, 'epoch': 1.58}\n",
            "{'eval_loss': 0.18358878791332245, 'eval_precision': 0.7690841556071949, 'eval_recall': 0.6959308134252227, 'eval_f1': 0.6805653625316397, 'eval_runtime': 3.2705, 'eval_samples_per_second': 210.98, 'epoch': 1.58}\n",
            "{'loss': 0.3774, 'learning_rate': 1.8131868131868133e-05, 'epoch': 1.59}\n",
            "{'eval_loss': 0.1836821436882019, 'eval_precision': 0.7736597199535048, 'eval_recall': 0.6998189384638455, 'eval_f1': 0.6851495905784794, 'eval_runtime': 3.2711, 'eval_samples_per_second': 210.941, 'epoch': 1.59}\n",
            "{'loss': 0.142, 'learning_rate': 1.7582417582417584e-05, 'epoch': 1.6}\n",
            "{'eval_loss': 0.18338671326637268, 'eval_precision': 0.7810324056524868, 'eval_recall': 0.6864907798856159, 'eval_f1': 0.682742156452217, 'eval_runtime': 3.2789, 'eval_samples_per_second': 210.433, 'epoch': 1.6}\n",
            "{'loss': 0.2832, 'learning_rate': 1.7032967032967035e-05, 'epoch': 1.61}\n",
            "{'eval_loss': 0.18132905662059784, 'eval_precision': 0.7790311707651956, 'eval_recall': 0.6822214886099011, 'eval_f1': 0.6814314499456839, 'eval_runtime': 3.2612, 'eval_samples_per_second': 211.578, 'epoch': 1.61}\n",
            "{'loss': 0.2011, 'learning_rate': 1.6483516483516486e-05, 'epoch': 1.62}\n",
            "{'eval_loss': 0.18163688480854034, 'eval_precision': 0.7769953200309087, 'eval_recall': 0.6887700653310731, 'eval_f1': 0.6824362926452235, 'eval_runtime': 3.2952, 'eval_samples_per_second': 209.396, 'epoch': 1.62}\n",
            "{'loss': 0.2713, 'learning_rate': 1.5934065934065933e-05, 'epoch': 1.63}\n",
            "{'eval_loss': 0.18716461956501007, 'eval_precision': 0.7684213877977268, 'eval_recall': 0.6996186415600816, 'eval_f1': 0.682659066541271, 'eval_runtime': 3.2668, 'eval_samples_per_second': 211.216, 'epoch': 1.63}\n",
            "{'loss': 0.1299, 'learning_rate': 1.5384615384615387e-05, 'epoch': 1.64}\n",
            "{'eval_loss': 0.18060563504695892, 'eval_precision': 0.7728549204551198, 'eval_recall': 0.6694055285483659, 'eval_f1': 0.6709309984700778, 'eval_runtime': 3.2678, 'eval_samples_per_second': 211.15, 'epoch': 1.64}\n",
            "{'loss': 0.4469, 'learning_rate': 1.4835164835164836e-05, 'epoch': 1.65}\n",
            "{'eval_loss': 0.17929388582706451, 'eval_precision': 0.7746737883960138, 'eval_recall': 0.6564017265018448, 'eval_f1': 0.6658911425784005, 'eval_runtime': 3.261, 'eval_samples_per_second': 211.592, 'epoch': 1.65}\n",
            "{'loss': 0.1822, 'learning_rate': 1.4285714285714285e-05, 'epoch': 1.66}\n",
            "{'eval_loss': 0.1787220537662506, 'eval_precision': 0.7732569457110552, 'eval_recall': 0.6609921153652457, 'eval_f1': 0.6669129479576866, 'eval_runtime': 3.2752, 'eval_samples_per_second': 210.675, 'epoch': 1.66}\n",
            "{'loss': 0.1169, 'learning_rate': 1.3736263736263738e-05, 'epoch': 1.67}\n",
            "{'eval_loss': 0.17963126301765442, 'eval_precision': 0.7696599361421051, 'eval_recall': 0.6526982620708877, 'eval_f1': 0.6621063404823759, 'eval_runtime': 3.2737, 'eval_samples_per_second': 210.773, 'epoch': 1.67}\n",
            "{'loss': 0.1838, 'learning_rate': 1.3186813186813187e-05, 'epoch': 1.68}\n",
            "{'eval_loss': 0.1800621896982193, 'eval_precision': 0.7660578110516125, 'eval_recall': 0.657348341450157, 'eval_f1': 0.6627933471614382, 'eval_runtime': 3.2727, 'eval_samples_per_second': 210.837, 'epoch': 1.68}\n",
            "{'loss': 0.1822, 'learning_rate': 1.2637362637362638e-05, 'epoch': 1.69}\n",
            "{'eval_loss': 0.17953942716121674, 'eval_precision': 0.7627997247480706, 'eval_recall': 0.671778836251345, 'eval_f1': 0.66639732958826, 'eval_runtime': 3.261, 'eval_samples_per_second': 211.59, 'epoch': 1.69}\n",
            "{'loss': 0.3053, 'learning_rate': 1.2087912087912089e-05, 'epoch': 1.7}\n",
            "{'eval_loss': 0.1793535351753235, 'eval_precision': 0.7650651450178712, 'eval_recall': 0.6797176094838808, 'eval_f1': 0.6710491917373581, 'eval_runtime': 3.2716, 'eval_samples_per_second': 210.904, 'epoch': 1.7}\n",
            "{'loss': 0.1287, 'learning_rate': 1.153846153846154e-05, 'epoch': 1.71}\n",
            "{'eval_loss': 0.17949216067790985, 'eval_precision': 0.7712401979184291, 'eval_recall': 0.6696924242891926, 'eval_f1': 0.6697916822096924, 'eval_runtime': 3.2715, 'eval_samples_per_second': 210.912, 'epoch': 1.71}\n",
            "{'loss': 0.1248, 'learning_rate': 1.0989010989010989e-05, 'epoch': 1.72}\n",
            "{'eval_loss': 0.1805894672870636, 'eval_precision': 0.7723113296477188, 'eval_recall': 0.6648579340021503, 'eval_f1': 0.6685957148693314, 'eval_runtime': 3.2681, 'eval_samples_per_second': 211.131, 'epoch': 1.72}\n",
            "{'loss': 0.1509, 'learning_rate': 1.0439560439560441e-05, 'epoch': 1.73}\n",
            "{'eval_loss': 0.1803116351366043, 'eval_precision': 0.7734808894522626, 'eval_recall': 0.6740876025109434, 'eval_f1': 0.6738491963016398, 'eval_runtime': 3.2655, 'eval_samples_per_second': 211.299, 'epoch': 1.73}\n",
            "{'loss': 0.1373, 'learning_rate': 9.89010989010989e-06, 'epoch': 1.74}\n",
            "{'eval_loss': 0.18006107211112976, 'eval_precision': 0.7726559865290061, 'eval_recall': 0.6873544843200177, 'eval_f1': 0.6796062191412758, 'eval_runtime': 3.272, 'eval_samples_per_second': 210.883, 'epoch': 1.74}\n",
            "{'loss': 0.1321, 'learning_rate': 9.340659340659341e-06, 'epoch': 1.75}\n",
            "{'eval_loss': 0.18038702011108398, 'eval_precision': 0.763451029683546, 'eval_recall': 0.6986343001791332, 'eval_f1': 0.680074794081578, 'eval_runtime': 3.2749, 'eval_samples_per_second': 210.691, 'epoch': 1.75}\n",
            "{'loss': 0.1115, 'learning_rate': 8.791208791208792e-06, 'epoch': 1.76}\n",
            "{'eval_loss': 0.1810435801744461, 'eval_precision': 0.7645908410232495, 'eval_recall': 0.7012392035676187, 'eval_f1': 0.6815494416040654, 'eval_runtime': 3.2693, 'eval_samples_per_second': 211.055, 'epoch': 1.76}\n",
            "{'loss': 0.2161, 'learning_rate': 8.241758241758243e-06, 'epoch': 1.77}\n",
            "{'eval_loss': 0.18196265399456024, 'eval_precision': 0.7646321585297404, 'eval_recall': 0.711720846816932, 'eval_f1': 0.6845396521714612, 'eval_runtime': 3.2715, 'eval_samples_per_second': 210.914, 'epoch': 1.77}\n",
            "{'loss': 0.1281, 'learning_rate': 7.692307692307694e-06, 'epoch': 1.78}\n",
            "{'eval_loss': 0.18175584077835083, 'eval_precision': 0.7665175249625985, 'eval_recall': 0.706892548401677, 'eval_f1': 0.6846200303582702, 'eval_runtime': 3.2828, 'eval_samples_per_second': 210.185, 'epoch': 1.78}\n",
            "{'loss': 0.1329, 'learning_rate': 7.142857142857143e-06, 'epoch': 1.79}\n",
            "{'eval_loss': 0.18220888078212738, 'eval_precision': 0.7726262590310138, 'eval_recall': 0.698174946328475, 'eval_f1': 0.6855773769359534, 'eval_runtime': 3.2808, 'eval_samples_per_second': 210.312, 'epoch': 1.79}\n",
            "{'loss': 0.4032, 'learning_rate': 6.5934065934065935e-06, 'epoch': 1.8}\n",
            "{'eval_loss': 0.18224795162677765, 'eval_precision': 0.7742768805077221, 'eval_recall': 0.6947632107684019, 'eval_f1': 0.6855219331505442, 'eval_runtime': 3.2727, 'eval_samples_per_second': 210.833, 'epoch': 1.8}\n",
            "{'loss': 0.2073, 'learning_rate': 6.043956043956044e-06, 'epoch': 1.81}\n",
            "{'eval_loss': 0.1815575659275055, 'eval_precision': 0.7710109613508578, 'eval_recall': 0.6983696694797198, 'eval_f1': 0.6852545763972875, 'eval_runtime': 3.2925, 'eval_samples_per_second': 209.568, 'epoch': 1.81}\n",
            "{'loss': 0.2379, 'learning_rate': 5.494505494505494e-06, 'epoch': 1.82}\n",
            "{'eval_loss': 0.18092504143714905, 'eval_precision': 0.7714886779761738, 'eval_recall': 0.7037186851529909, 'eval_f1': 0.6863922936218217, 'eval_runtime': 3.2697, 'eval_samples_per_second': 211.029, 'epoch': 1.82}\n",
            "{'loss': 0.2766, 'learning_rate': 4.945054945054945e-06, 'epoch': 1.83}\n",
            "{'eval_loss': 0.180929496884346, 'eval_precision': 0.7713895480704456, 'eval_recall': 0.7087695112653161, 'eval_f1': 0.6871370696980292, 'eval_runtime': 3.273, 'eval_samples_per_second': 210.817, 'epoch': 1.83}\n",
            "{'loss': 0.1709, 'learning_rate': 4.395604395604396e-06, 'epoch': 1.84}\n",
            "{'eval_loss': 0.18063604831695557, 'eval_precision': 0.7709842009619902, 'eval_recall': 0.7077371124068302, 'eval_f1': 0.6866423295152204, 'eval_runtime': 3.2654, 'eval_samples_per_second': 211.309, 'epoch': 1.84}\n",
            "{'loss': 0.1618, 'learning_rate': 3.846153846153847e-06, 'epoch': 1.85}\n",
            "{'eval_loss': 0.17964939773082733, 'eval_precision': 0.775546681231734, 'eval_recall': 0.7030470557071679, 'eval_f1': 0.6888290358079328, 'eval_runtime': 3.2715, 'eval_samples_per_second': 210.91, 'epoch': 1.85}\n",
            "{'loss': 0.1799, 'learning_rate': 3.2967032967032968e-06, 'epoch': 1.86}\n",
            "{'eval_loss': 0.1791437268257141, 'eval_precision': 0.7776522069575709, 'eval_recall': 0.6924864735102008, 'eval_f1': 0.6862737059257299, 'eval_runtime': 3.2729, 'eval_samples_per_second': 210.825, 'epoch': 1.86}\n",
            "{'loss': 0.1732, 'learning_rate': 2.747252747252747e-06, 'epoch': 1.87}\n",
            "{'eval_loss': 0.17919835448265076, 'eval_precision': 0.7800258625534207, 'eval_recall': 0.6844856050261932, 'eval_f1': 0.6822476992605959, 'eval_runtime': 3.2709, 'eval_samples_per_second': 210.953, 'epoch': 1.87}\n",
            "{'loss': 0.1288, 'learning_rate': 2.197802197802198e-06, 'epoch': 1.88}\n",
            "{'eval_loss': 0.1793912649154663, 'eval_precision': 0.7811380677579668, 'eval_recall': 0.6799926104481325, 'eval_f1': 0.6806405301997842, 'eval_runtime': 3.2722, 'eval_samples_per_second': 210.866, 'epoch': 1.88}\n",
            "{'loss': 0.114, 'learning_rate': 1.6483516483516484e-06, 'epoch': 1.89}\n",
            "{'eval_loss': 0.17964136600494385, 'eval_precision': 0.7825439248183608, 'eval_recall': 0.6791955089988572, 'eval_f1': 0.6811478151835778, 'eval_runtime': 3.2609, 'eval_samples_per_second': 211.597, 'epoch': 1.89}\n",
            "{'loss': 0.2629, 'learning_rate': 1.098901098901099e-06, 'epoch': 1.9}\n",
            "{'eval_loss': 0.1795685738325119, 'eval_precision': 0.7830253362865397, 'eval_recall': 0.6798718375012727, 'eval_f1': 0.6816727913297247, 'eval_runtime': 3.2685, 'eval_samples_per_second': 211.109, 'epoch': 1.9}\n",
            "{'loss': 0.0909, 'learning_rate': 5.494505494505495e-07, 'epoch': 1.91}\n",
            "{'eval_loss': 0.17955555021762848, 'eval_precision': 0.7830253362865397, 'eval_recall': 0.6798718375012727, 'eval_f1': 0.6816727913297247, 'eval_runtime': 3.2804, 'eval_samples_per_second': 210.341, 'epoch': 1.91}\n",
            "{'loss': 0.1705, 'learning_rate': 0.0, 'epoch': 1.92}\n",
            "{'eval_loss': 0.17958588898181915, 'eval_precision': 0.7814790368078205, 'eval_recall': 0.6789539631051373, 'eval_f1': 0.6810159234574832, 'eval_runtime': 3.269, 'eval_samples_per_second': 211.076, 'epoch': 1.92}\n",
            "{'train_runtime': 1092.5696, 'train_samples_per_second': 0.874, 'epoch': 1.92}\n",
            "> Making Predictions on Test Set\n",
            "\n",
            "> Dev Scores: {'precision': 0.7814790368078205, 'recall': 0.6789539631051373, 'f1': 0.6810159234574832}\n",
            "\n",
            "> Test Scores: {'precision': 0.6832483074315447, 'recall': 0.7326253345146417, 'f1': 0.6832106166708498}\n",
            "\n",
            "> Creating Submission File\n",
            "\n",
            "Time: 18.956374446551006 mins\n"
          ],
          "name": "stdout"
        }
      ]
    },
    {
      "cell_type": "markdown",
      "metadata": {
        "id": "MtCLSZyhiuXh"
      },
      "source": [
        "## Zip File for Submission "
      ]
    },
    {
      "cell_type": "code",
      "metadata": {
        "colab": {
          "base_uri": "https://localhost:8080/"
        },
        "id": "aaiC1kPyjpPl",
        "outputId": "34942d57-2d9d-4815-dad5-b2611c56067d"
      },
      "source": [
        "# Zip the spans-pred submission file\n",
        "!zip -r bert_predictions.zip ./spans-pred.*"
      ],
      "execution_count": 7,
      "outputs": [
        {
          "output_type": "stream",
          "text": [
            "updating: spans-pred.txt (deflated 82%)\n"
          ],
          "name": "stdout"
        }
      ]
    },
    {
      "cell_type": "code",
      "metadata": {
        "colab": {
          "base_uri": "https://localhost:8080/"
        },
        "id": "YmheuJ7pjyXL",
        "outputId": "0427a3ad-077a-41d0-d13f-fc2b25495bce"
      },
      "source": [
        "# Check by unziping it: only a spans-pred.txt file should be created¶\n",
        "!rm spans-pred.txt\n",
        "!unzip bert_predictions.zip"
      ],
      "execution_count": 8,
      "outputs": [
        {
          "output_type": "stream",
          "text": [
            "Archive:  bert_predictions.zip\n",
            "  inflating: spans-pred.txt          \n"
          ],
          "name": "stdout"
        }
      ]
    },
    {
      "cell_type": "code",
      "metadata": {
        "colab": {
          "base_uri": "https://localhost:8080/",
          "height": 17
        },
        "id": "J4zOlgQZkEoL",
        "outputId": "89c864fd-bc55-41fc-8190-a52e60a06eb7"
      },
      "source": [
        "# Download the zip file and submit it to be Codalab for evaluation\n",
        "from google.colab import files\n",
        "files.download(\"bert_predictions.zip\")"
      ],
      "execution_count": 9,
      "outputs": [
        {
          "output_type": "display_data",
          "data": {
            "application/javascript": [
              "\n",
              "    async function download(id, filename, size) {\n",
              "      if (!google.colab.kernel.accessAllowed) {\n",
              "        return;\n",
              "      }\n",
              "      const div = document.createElement('div');\n",
              "      const label = document.createElement('label');\n",
              "      label.textContent = `Downloading \"${filename}\": `;\n",
              "      div.appendChild(label);\n",
              "      const progress = document.createElement('progress');\n",
              "      progress.max = size;\n",
              "      div.appendChild(progress);\n",
              "      document.body.appendChild(div);\n",
              "\n",
              "      const buffers = [];\n",
              "      let downloaded = 0;\n",
              "\n",
              "      const channel = await google.colab.kernel.comms.open(id);\n",
              "      // Send a message to notify the kernel that we're ready.\n",
              "      channel.send({})\n",
              "\n",
              "      for await (const message of channel.messages) {\n",
              "        // Send a message to notify the kernel that we're ready.\n",
              "        channel.send({})\n",
              "        if (message.buffers) {\n",
              "          for (const buffer of message.buffers) {\n",
              "            buffers.push(buffer);\n",
              "            downloaded += buffer.byteLength;\n",
              "            progress.value = downloaded;\n",
              "          }\n",
              "        }\n",
              "      }\n",
              "      const blob = new Blob(buffers, {type: 'application/binary'});\n",
              "      const a = document.createElement('a');\n",
              "      a.href = window.URL.createObjectURL(blob);\n",
              "      a.download = filename;\n",
              "      div.appendChild(a);\n",
              "      a.click();\n",
              "      div.remove();\n",
              "    }\n",
              "  "
            ],
            "text/plain": [
              "<IPython.core.display.Javascript object>"
            ]
          },
          "metadata": {
            "tags": []
          }
        },
        {
          "output_type": "display_data",
          "data": {
            "application/javascript": [
              "download(\"download_c030290c-bf00-4bdd-aa40-9c9d99def6cb\", \"bert_predictions.zip\", 15757)"
            ],
            "text/plain": [
              "<IPython.core.display.Javascript object>"
            ]
          },
          "metadata": {
            "tags": []
          }
        }
      ]
    }
  ]
}