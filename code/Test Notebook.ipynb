{
 "cells": [
  {
   "cell_type": "code",
   "execution_count": 1,
   "metadata": {},
   "outputs": [],
   "source": [
    "from load_dataset import load_dataset"
   ]
  },
  {
   "cell_type": "code",
   "execution_count": 5,
   "metadata": {
    "tags": []
   },
   "outputs": [
    {
     "output_type": "stream",
     "name": "stdout",
     "text": "Loading the dataset located at '../data/tsd_trial.csv'\nDone!\n"
    },
    {
     "output_type": "execute_result",
     "data": {
      "text/plain": "0               [15, 16, 17, 18, 19, 27, 28, 29, 30, 31]\n1                               [29, 30, 31, 32, 33, 34]\n2                         [166, 167, 168, 169, 170, 171]\n3                               [87, 88, 89, 90, 91, 92]\n4                                                     []\n                             ...                        \n685                       [129, 130, 131, 132, 133, 134]\n686                       [126, 127, 128, 129, 130, 131]\n687                             [24, 25, 26, 27, 28, 29]\n688    [0, 1, 2, 3, 4, 5, 6, 7, 8, 9, 10, 11, 12, 13,...\n689                       [136, 137, 138, 139, 140, 141]\nName: spans, Length: 690, dtype: object"
     },
     "metadata": {},
     "execution_count": 5
    }
   ],
   "source": [
    "texts, spans = load_dataset(\"../data/tsd_trial.csv\")\n",
    "texts"
   ]
  },
  {
   "cell_type": "code",
   "execution_count": null,
   "metadata": {},
   "outputs": [],
   "source": []
  },
  {
   "cell_type": "code",
   "execution_count": null,
   "metadata": {},
   "outputs": [],
   "source": []
  },
  {
   "cell_type": "code",
   "execution_count": null,
   "metadata": {},
   "outputs": [],
   "source": []
  }
 ],
 "metadata": {
  "kernelspec": {
   "display_name": "Python 3",
   "language": "python",
   "name": "python3"
  },
  "language_info": {
   "codemirror_mode": {
    "name": "ipython",
    "version": 3
   },
   "file_extension": ".py",
   "mimetype": "text/x-python",
   "name": "python",
   "nbconvert_exporter": "python",
   "pygments_lexer": "ipython3",
   "version": "3.7.3-final"
  }
 },
 "nbformat": 4,
 "nbformat_minor": 2
}